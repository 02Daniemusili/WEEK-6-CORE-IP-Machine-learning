{
  "nbformat": 4,
  "nbformat_minor": 0,
  "metadata": {
    "colab": {
      "name": "WEEK 6 core  PROJECT.ipynb",
      "provenance": [],
      "collapsed_sections": [],
      "authorship_tag": "ABX9TyOTGfgnh1lrdJ2OopE46Y6o",
      "include_colab_link": true
    },
    "kernelspec": {
      "display_name": "Python 3",
      "name": "python3"
    },
    "language_info": {
      "name": "python"
    }
  },
  "cells": [
    {
      "cell_type": "markdown",
      "metadata": {
        "id": "view-in-github",
        "colab_type": "text"
      },
      "source": [
        "<a href=\"https://colab.research.google.com/github/12345997/WEEK-6-CORE-IP-Machine-learning/blob/main/WEEK_6_core_PROJECT.ipynb\" target=\"_parent\"><img src=\"https://colab.research.google.com/assets/colab-badge.svg\" alt=\"Open In Colab\"/></a>"
      ]
    },
    {
      "cell_type": "markdown",
      "metadata": {
        "id": "9x3TvyWEKRpT"
      },
      "source": [
        "Fifa dataset configuration"
      ]
    },
    {
      "cell_type": "markdown",
      "metadata": {
        "id": "gbQVC62kL2lX"
      },
      "source": [
        "#1.0 Defining the question"
      ]
    },
    {
      "cell_type": "markdown",
      "metadata": {
        "id": "T5ATZ-v5MSiL"
      },
      "source": [
        "## Specifying the Data Analytic Question"
      ]
    },
    {
      "cell_type": "markdown",
      "metadata": {
        "id": "xE_rqlq7MrcA"
      },
      "source": [
        "###Defining the metric of success"
      ]
    },
    {
      "cell_type": "markdown",
      "metadata": {
        "id": "32iSMnFAD4-c"
      },
      "source": [
        "\n",
        "\n",
        "```\n",
        "#To find the probability that a team will win a home game or an away game\n",
        "```\n",
        "\n"
      ]
    },
    {
      "cell_type": "markdown",
      "metadata": {
        "id": "3pVAb39yNEbN"
      },
      "source": [
        "###Data relevance"
      ]
    },
    {
      "cell_type": "markdown",
      "metadata": {
        "id": "mqTwK-DISUMD"
      },
      "source": [
        "the aim of this project is to predic the probability of anaway or a home team winning a game"
      ]
    },
    {
      "cell_type": "markdown",
      "metadata": {
        "id": "fMmbb9wkNPIv"
      },
      "source": [
        "#2.0 Importing the Libraries"
      ]
    },
    {
      "cell_type": "code",
      "metadata": {
        "id": "7XJkZMaMKOhh"
      },
      "source": [
        "# Importing the relevant libraries\n",
        "import matplotlib.pyplot as plt\n",
        "import pandas as pd\n",
        "import numpy as np\n",
        "import scipy.stats as stats\n",
        "import seaborn as sns\n",
        "import matplotlib\n",
        "from matplotlib import pyplot as plt\n",
        "\n"
      ],
      "execution_count": 94,
      "outputs": []
    },
    {
      "cell_type": "markdown",
      "metadata": {
        "id": "dKsncBX8NbTw"
      },
      "source": [
        "#3.0 Loading the data"
      ]
    },
    {
      "cell_type": "code",
      "metadata": {
        "id": "mfZg6bbdNhb6"
      },
      "source": [
        "#Reading the data into our environmet\n",
        "results=pd.read_csv(\"results.csv\")"
      ],
      "execution_count": 95,
      "outputs": []
    },
    {
      "cell_type": "code",
      "metadata": {
        "id": "T6Dbl78WGFGd"
      },
      "source": [
        "#Reading the data into our environmet\n",
        "fifa_ranking=pd.read_csv(\"/content/fifa_ranking.csv\")"
      ],
      "execution_count": 96,
      "outputs": []
    },
    {
      "cell_type": "markdown",
      "metadata": {
        "id": "6uArBESQNycC"
      },
      "source": [
        "#4.0 Previewing the dataset"
      ]
    },
    {
      "cell_type": "code",
      "metadata": {
        "id": "2RqgPodvN9qg",
        "colab": {
          "base_uri": "https://localhost:8080/"
        },
        "outputId": "a0f2264b-fd0a-4236-b8cd-abae182f70bc"
      },
      "source": [
        "#checking the number of records\n",
        "fifa_ranking.shape"
      ],
      "execution_count": 97,
      "outputs": [
        {
          "output_type": "execute_result",
          "data": {
            "text/plain": [
              "(57793, 16)"
            ]
          },
          "metadata": {
            "tags": []
          },
          "execution_count": 97
        }
      ]
    },
    {
      "cell_type": "code",
      "metadata": {
        "id": "SBpfjGUMI_Xe",
        "colab": {
          "base_uri": "https://localhost:8080/"
        },
        "outputId": "85cde78f-0f09-42d3-d479-cb4dcd64cce8"
      },
      "source": [
        "#checking the number of records\n",
        "results.shape"
      ],
      "execution_count": 98,
      "outputs": [
        {
          "output_type": "execute_result",
          "data": {
            "text/plain": [
              "(40839, 9)"
            ]
          },
          "metadata": {
            "tags": []
          },
          "execution_count": 98
        }
      ]
    },
    {
      "cell_type": "code",
      "metadata": {
        "id": "K0xo8yKfOK6b",
        "colab": {
          "base_uri": "https://localhost:8080/",
          "height": 204
        },
        "outputId": "8ce24673-b772-4913-b3dd-72a14a80718b"
      },
      "source": [
        "#previewing the first five records\n",
        "results.head(5)"
      ],
      "execution_count": 99,
      "outputs": [
        {
          "output_type": "execute_result",
          "data": {
            "text/html": [
              "<div>\n",
              "<style scoped>\n",
              "    .dataframe tbody tr th:only-of-type {\n",
              "        vertical-align: middle;\n",
              "    }\n",
              "\n",
              "    .dataframe tbody tr th {\n",
              "        vertical-align: top;\n",
              "    }\n",
              "\n",
              "    .dataframe thead th {\n",
              "        text-align: right;\n",
              "    }\n",
              "</style>\n",
              "<table border=\"1\" class=\"dataframe\">\n",
              "  <thead>\n",
              "    <tr style=\"text-align: right;\">\n",
              "      <th></th>\n",
              "      <th>date</th>\n",
              "      <th>home_team</th>\n",
              "      <th>away_team</th>\n",
              "      <th>home_score</th>\n",
              "      <th>away_score</th>\n",
              "      <th>tournament</th>\n",
              "      <th>city</th>\n",
              "      <th>country</th>\n",
              "      <th>neutral</th>\n",
              "    </tr>\n",
              "  </thead>\n",
              "  <tbody>\n",
              "    <tr>\n",
              "      <th>0</th>\n",
              "      <td>1872-11-30</td>\n",
              "      <td>Scotland</td>\n",
              "      <td>England</td>\n",
              "      <td>0</td>\n",
              "      <td>0</td>\n",
              "      <td>Friendly</td>\n",
              "      <td>Glasgow</td>\n",
              "      <td>Scotland</td>\n",
              "      <td>False</td>\n",
              "    </tr>\n",
              "    <tr>\n",
              "      <th>1</th>\n",
              "      <td>1873-03-08</td>\n",
              "      <td>England</td>\n",
              "      <td>Scotland</td>\n",
              "      <td>4</td>\n",
              "      <td>2</td>\n",
              "      <td>Friendly</td>\n",
              "      <td>London</td>\n",
              "      <td>England</td>\n",
              "      <td>False</td>\n",
              "    </tr>\n",
              "    <tr>\n",
              "      <th>2</th>\n",
              "      <td>1874-03-07</td>\n",
              "      <td>Scotland</td>\n",
              "      <td>England</td>\n",
              "      <td>2</td>\n",
              "      <td>1</td>\n",
              "      <td>Friendly</td>\n",
              "      <td>Glasgow</td>\n",
              "      <td>Scotland</td>\n",
              "      <td>False</td>\n",
              "    </tr>\n",
              "    <tr>\n",
              "      <th>3</th>\n",
              "      <td>1875-03-06</td>\n",
              "      <td>England</td>\n",
              "      <td>Scotland</td>\n",
              "      <td>2</td>\n",
              "      <td>2</td>\n",
              "      <td>Friendly</td>\n",
              "      <td>London</td>\n",
              "      <td>England</td>\n",
              "      <td>False</td>\n",
              "    </tr>\n",
              "    <tr>\n",
              "      <th>4</th>\n",
              "      <td>1876-03-04</td>\n",
              "      <td>Scotland</td>\n",
              "      <td>England</td>\n",
              "      <td>3</td>\n",
              "      <td>0</td>\n",
              "      <td>Friendly</td>\n",
              "      <td>Glasgow</td>\n",
              "      <td>Scotland</td>\n",
              "      <td>False</td>\n",
              "    </tr>\n",
              "  </tbody>\n",
              "</table>\n",
              "</div>"
            ],
            "text/plain": [
              "         date home_team away_team  ...     city   country neutral\n",
              "0  1872-11-30  Scotland   England  ...  Glasgow  Scotland   False\n",
              "1  1873-03-08   England  Scotland  ...   London   England   False\n",
              "2  1874-03-07  Scotland   England  ...  Glasgow  Scotland   False\n",
              "3  1875-03-06   England  Scotland  ...   London   England   False\n",
              "4  1876-03-04  Scotland   England  ...  Glasgow  Scotland   False\n",
              "\n",
              "[5 rows x 9 columns]"
            ]
          },
          "metadata": {
            "tags": []
          },
          "execution_count": 99
        }
      ]
    },
    {
      "cell_type": "code",
      "metadata": {
        "id": "hDaKpO_wJhgm",
        "colab": {
          "base_uri": "https://localhost:8080/",
          "height": 289
        },
        "outputId": "90e4944b-8b77-435c-d8bc-5fb361a7689f"
      },
      "source": [
        "#previewing  the last five records\n",
        "results.tail(5)"
      ],
      "execution_count": 100,
      "outputs": [
        {
          "output_type": "execute_result",
          "data": {
            "text/html": [
              "<div>\n",
              "<style scoped>\n",
              "    .dataframe tbody tr th:only-of-type {\n",
              "        vertical-align: middle;\n",
              "    }\n",
              "\n",
              "    .dataframe tbody tr th {\n",
              "        vertical-align: top;\n",
              "    }\n",
              "\n",
              "    .dataframe thead th {\n",
              "        text-align: right;\n",
              "    }\n",
              "</style>\n",
              "<table border=\"1\" class=\"dataframe\">\n",
              "  <thead>\n",
              "    <tr style=\"text-align: right;\">\n",
              "      <th></th>\n",
              "      <th>date</th>\n",
              "      <th>home_team</th>\n",
              "      <th>away_team</th>\n",
              "      <th>home_score</th>\n",
              "      <th>away_score</th>\n",
              "      <th>tournament</th>\n",
              "      <th>city</th>\n",
              "      <th>country</th>\n",
              "      <th>neutral</th>\n",
              "    </tr>\n",
              "  </thead>\n",
              "  <tbody>\n",
              "    <tr>\n",
              "      <th>40834</th>\n",
              "      <td>2019-07-18</td>\n",
              "      <td>American Samoa</td>\n",
              "      <td>Tahiti</td>\n",
              "      <td>8</td>\n",
              "      <td>1</td>\n",
              "      <td>Pacific Games</td>\n",
              "      <td>Apia</td>\n",
              "      <td>Samoa</td>\n",
              "      <td>True</td>\n",
              "    </tr>\n",
              "    <tr>\n",
              "      <th>40835</th>\n",
              "      <td>2019-07-18</td>\n",
              "      <td>Fiji</td>\n",
              "      <td>Solomon Islands</td>\n",
              "      <td>4</td>\n",
              "      <td>4</td>\n",
              "      <td>Pacific Games</td>\n",
              "      <td>Apia</td>\n",
              "      <td>Samoa</td>\n",
              "      <td>True</td>\n",
              "    </tr>\n",
              "    <tr>\n",
              "      <th>40836</th>\n",
              "      <td>2019-07-19</td>\n",
              "      <td>Senegal</td>\n",
              "      <td>Algeria</td>\n",
              "      <td>0</td>\n",
              "      <td>1</td>\n",
              "      <td>African Cup of Nations</td>\n",
              "      <td>Cairo</td>\n",
              "      <td>Egypt</td>\n",
              "      <td>True</td>\n",
              "    </tr>\n",
              "    <tr>\n",
              "      <th>40837</th>\n",
              "      <td>2019-07-19</td>\n",
              "      <td>Tajikistan</td>\n",
              "      <td>North Korea</td>\n",
              "      <td>0</td>\n",
              "      <td>1</td>\n",
              "      <td>Intercontinental Cup</td>\n",
              "      <td>Ahmedabad</td>\n",
              "      <td>India</td>\n",
              "      <td>True</td>\n",
              "    </tr>\n",
              "    <tr>\n",
              "      <th>40838</th>\n",
              "      <td>2019-07-20</td>\n",
              "      <td>Papua New Guinea</td>\n",
              "      <td>Fiji</td>\n",
              "      <td>1</td>\n",
              "      <td>1</td>\n",
              "      <td>Pacific Games</td>\n",
              "      <td>Apia</td>\n",
              "      <td>Samoa</td>\n",
              "      <td>True</td>\n",
              "    </tr>\n",
              "  </tbody>\n",
              "</table>\n",
              "</div>"
            ],
            "text/plain": [
              "             date         home_team  ... country  neutral\n",
              "40834  2019-07-18    American Samoa  ...   Samoa     True\n",
              "40835  2019-07-18              Fiji  ...   Samoa     True\n",
              "40836  2019-07-19           Senegal  ...   Egypt     True\n",
              "40837  2019-07-19        Tajikistan  ...   India     True\n",
              "40838  2019-07-20  Papua New Guinea  ...   Samoa     True\n",
              "\n",
              "[5 rows x 9 columns]"
            ]
          },
          "metadata": {
            "tags": []
          },
          "execution_count": 100
        }
      ]
    },
    {
      "cell_type": "code",
      "metadata": {
        "id": "3WhVFuMRJwe2",
        "colab": {
          "base_uri": "https://localhost:8080/",
          "height": 309
        },
        "outputId": "a4f8fe61-d1be-4bc3-c2b4-0e34405d31e9"
      },
      "source": [
        "fifa_ranking.head()"
      ],
      "execution_count": 101,
      "outputs": [
        {
          "output_type": "execute_result",
          "data": {
            "text/html": [
              "<div>\n",
              "<style scoped>\n",
              "    .dataframe tbody tr th:only-of-type {\n",
              "        vertical-align: middle;\n",
              "    }\n",
              "\n",
              "    .dataframe tbody tr th {\n",
              "        vertical-align: top;\n",
              "    }\n",
              "\n",
              "    .dataframe thead th {\n",
              "        text-align: right;\n",
              "    }\n",
              "</style>\n",
              "<table border=\"1\" class=\"dataframe\">\n",
              "  <thead>\n",
              "    <tr style=\"text-align: right;\">\n",
              "      <th></th>\n",
              "      <th>rank</th>\n",
              "      <th>country_full</th>\n",
              "      <th>country_abrv</th>\n",
              "      <th>total_points</th>\n",
              "      <th>previous_points</th>\n",
              "      <th>rank_change</th>\n",
              "      <th>cur_year_avg</th>\n",
              "      <th>cur_year_avg_weighted</th>\n",
              "      <th>last_year_avg</th>\n",
              "      <th>last_year_avg_weighted</th>\n",
              "      <th>two_year_ago_avg</th>\n",
              "      <th>two_year_ago_weighted</th>\n",
              "      <th>three_year_ago_avg</th>\n",
              "      <th>three_year_ago_weighted</th>\n",
              "      <th>confederation</th>\n",
              "      <th>rank_date</th>\n",
              "    </tr>\n",
              "  </thead>\n",
              "  <tbody>\n",
              "    <tr>\n",
              "      <th>0</th>\n",
              "      <td>1</td>\n",
              "      <td>Germany</td>\n",
              "      <td>GER</td>\n",
              "      <td>0.0</td>\n",
              "      <td>57</td>\n",
              "      <td>0</td>\n",
              "      <td>0.0</td>\n",
              "      <td>0.0</td>\n",
              "      <td>0.0</td>\n",
              "      <td>0.0</td>\n",
              "      <td>0.0</td>\n",
              "      <td>0.0</td>\n",
              "      <td>0.0</td>\n",
              "      <td>0.0</td>\n",
              "      <td>UEFA</td>\n",
              "      <td>1993-08-08</td>\n",
              "    </tr>\n",
              "    <tr>\n",
              "      <th>1</th>\n",
              "      <td>2</td>\n",
              "      <td>Italy</td>\n",
              "      <td>ITA</td>\n",
              "      <td>0.0</td>\n",
              "      <td>57</td>\n",
              "      <td>0</td>\n",
              "      <td>0.0</td>\n",
              "      <td>0.0</td>\n",
              "      <td>0.0</td>\n",
              "      <td>0.0</td>\n",
              "      <td>0.0</td>\n",
              "      <td>0.0</td>\n",
              "      <td>0.0</td>\n",
              "      <td>0.0</td>\n",
              "      <td>UEFA</td>\n",
              "      <td>1993-08-08</td>\n",
              "    </tr>\n",
              "    <tr>\n",
              "      <th>2</th>\n",
              "      <td>3</td>\n",
              "      <td>Switzerland</td>\n",
              "      <td>SUI</td>\n",
              "      <td>0.0</td>\n",
              "      <td>50</td>\n",
              "      <td>9</td>\n",
              "      <td>0.0</td>\n",
              "      <td>0.0</td>\n",
              "      <td>0.0</td>\n",
              "      <td>0.0</td>\n",
              "      <td>0.0</td>\n",
              "      <td>0.0</td>\n",
              "      <td>0.0</td>\n",
              "      <td>0.0</td>\n",
              "      <td>UEFA</td>\n",
              "      <td>1993-08-08</td>\n",
              "    </tr>\n",
              "    <tr>\n",
              "      <th>3</th>\n",
              "      <td>4</td>\n",
              "      <td>Sweden</td>\n",
              "      <td>SWE</td>\n",
              "      <td>0.0</td>\n",
              "      <td>55</td>\n",
              "      <td>0</td>\n",
              "      <td>0.0</td>\n",
              "      <td>0.0</td>\n",
              "      <td>0.0</td>\n",
              "      <td>0.0</td>\n",
              "      <td>0.0</td>\n",
              "      <td>0.0</td>\n",
              "      <td>0.0</td>\n",
              "      <td>0.0</td>\n",
              "      <td>UEFA</td>\n",
              "      <td>1993-08-08</td>\n",
              "    </tr>\n",
              "    <tr>\n",
              "      <th>4</th>\n",
              "      <td>5</td>\n",
              "      <td>Argentina</td>\n",
              "      <td>ARG</td>\n",
              "      <td>0.0</td>\n",
              "      <td>51</td>\n",
              "      <td>5</td>\n",
              "      <td>0.0</td>\n",
              "      <td>0.0</td>\n",
              "      <td>0.0</td>\n",
              "      <td>0.0</td>\n",
              "      <td>0.0</td>\n",
              "      <td>0.0</td>\n",
              "      <td>0.0</td>\n",
              "      <td>0.0</td>\n",
              "      <td>CONMEBOL</td>\n",
              "      <td>1993-08-08</td>\n",
              "    </tr>\n",
              "  </tbody>\n",
              "</table>\n",
              "</div>"
            ],
            "text/plain": [
              "   rank country_full  ... confederation   rank_date\n",
              "0     1      Germany  ...          UEFA  1993-08-08\n",
              "1     2        Italy  ...          UEFA  1993-08-08\n",
              "2     3  Switzerland  ...          UEFA  1993-08-08\n",
              "3     4       Sweden  ...          UEFA  1993-08-08\n",
              "4     5    Argentina  ...      CONMEBOL  1993-08-08\n",
              "\n",
              "[5 rows x 16 columns]"
            ]
          },
          "metadata": {
            "tags": []
          },
          "execution_count": 101
        }
      ]
    },
    {
      "cell_type": "code",
      "metadata": {
        "id": "G7cTrj5ROWB4",
        "colab": {
          "base_uri": "https://localhost:8080/",
          "height": 309
        },
        "outputId": "13e10d47-3a49-4d40-8df3-be6e173a3191"
      },
      "source": [
        "#previewing the last five records\n",
        "fifa_ranking.tail(5)"
      ],
      "execution_count": 102,
      "outputs": [
        {
          "output_type": "execute_result",
          "data": {
            "text/html": [
              "<div>\n",
              "<style scoped>\n",
              "    .dataframe tbody tr th:only-of-type {\n",
              "        vertical-align: middle;\n",
              "    }\n",
              "\n",
              "    .dataframe tbody tr th {\n",
              "        vertical-align: top;\n",
              "    }\n",
              "\n",
              "    .dataframe thead th {\n",
              "        text-align: right;\n",
              "    }\n",
              "</style>\n",
              "<table border=\"1\" class=\"dataframe\">\n",
              "  <thead>\n",
              "    <tr style=\"text-align: right;\">\n",
              "      <th></th>\n",
              "      <th>rank</th>\n",
              "      <th>country_full</th>\n",
              "      <th>country_abrv</th>\n",
              "      <th>total_points</th>\n",
              "      <th>previous_points</th>\n",
              "      <th>rank_change</th>\n",
              "      <th>cur_year_avg</th>\n",
              "      <th>cur_year_avg_weighted</th>\n",
              "      <th>last_year_avg</th>\n",
              "      <th>last_year_avg_weighted</th>\n",
              "      <th>two_year_ago_avg</th>\n",
              "      <th>two_year_ago_weighted</th>\n",
              "      <th>three_year_ago_avg</th>\n",
              "      <th>three_year_ago_weighted</th>\n",
              "      <th>confederation</th>\n",
              "      <th>rank_date</th>\n",
              "    </tr>\n",
              "  </thead>\n",
              "  <tbody>\n",
              "    <tr>\n",
              "      <th>57788</th>\n",
              "      <td>206</td>\n",
              "      <td>Anguilla</td>\n",
              "      <td>AIA</td>\n",
              "      <td>0.0</td>\n",
              "      <td>0</td>\n",
              "      <td>1</td>\n",
              "      <td>0.0</td>\n",
              "      <td>0.0</td>\n",
              "      <td>0.0</td>\n",
              "      <td>0.0</td>\n",
              "      <td>0.0</td>\n",
              "      <td>0.0</td>\n",
              "      <td>0.0</td>\n",
              "      <td>0.0</td>\n",
              "      <td>CONCACAF</td>\n",
              "      <td>2018-06-07</td>\n",
              "    </tr>\n",
              "    <tr>\n",
              "      <th>57789</th>\n",
              "      <td>206</td>\n",
              "      <td>Bahamas</td>\n",
              "      <td>BAH</td>\n",
              "      <td>0.0</td>\n",
              "      <td>0</td>\n",
              "      <td>1</td>\n",
              "      <td>0.0</td>\n",
              "      <td>0.0</td>\n",
              "      <td>0.0</td>\n",
              "      <td>0.0</td>\n",
              "      <td>0.0</td>\n",
              "      <td>0.0</td>\n",
              "      <td>0.0</td>\n",
              "      <td>0.0</td>\n",
              "      <td>CONCACAF</td>\n",
              "      <td>2018-06-07</td>\n",
              "    </tr>\n",
              "    <tr>\n",
              "      <th>57790</th>\n",
              "      <td>206</td>\n",
              "      <td>Eritrea</td>\n",
              "      <td>ERI</td>\n",
              "      <td>0.0</td>\n",
              "      <td>0</td>\n",
              "      <td>1</td>\n",
              "      <td>0.0</td>\n",
              "      <td>0.0</td>\n",
              "      <td>0.0</td>\n",
              "      <td>0.0</td>\n",
              "      <td>0.0</td>\n",
              "      <td>0.0</td>\n",
              "      <td>0.0</td>\n",
              "      <td>0.0</td>\n",
              "      <td>CAF</td>\n",
              "      <td>2018-06-07</td>\n",
              "    </tr>\n",
              "    <tr>\n",
              "      <th>57791</th>\n",
              "      <td>206</td>\n",
              "      <td>Somalia</td>\n",
              "      <td>SOM</td>\n",
              "      <td>0.0</td>\n",
              "      <td>0</td>\n",
              "      <td>1</td>\n",
              "      <td>0.0</td>\n",
              "      <td>0.0</td>\n",
              "      <td>0.0</td>\n",
              "      <td>0.0</td>\n",
              "      <td>0.0</td>\n",
              "      <td>0.0</td>\n",
              "      <td>0.0</td>\n",
              "      <td>0.0</td>\n",
              "      <td>CAF</td>\n",
              "      <td>2018-06-07</td>\n",
              "    </tr>\n",
              "    <tr>\n",
              "      <th>57792</th>\n",
              "      <td>206</td>\n",
              "      <td>Tonga</td>\n",
              "      <td>TGA</td>\n",
              "      <td>0.0</td>\n",
              "      <td>0</td>\n",
              "      <td>1</td>\n",
              "      <td>0.0</td>\n",
              "      <td>0.0</td>\n",
              "      <td>0.0</td>\n",
              "      <td>0.0</td>\n",
              "      <td>0.0</td>\n",
              "      <td>0.0</td>\n",
              "      <td>0.0</td>\n",
              "      <td>0.0</td>\n",
              "      <td>OFC</td>\n",
              "      <td>2018-06-07</td>\n",
              "    </tr>\n",
              "  </tbody>\n",
              "</table>\n",
              "</div>"
            ],
            "text/plain": [
              "       rank country_full  ... confederation   rank_date\n",
              "57788   206     Anguilla  ...      CONCACAF  2018-06-07\n",
              "57789   206      Bahamas  ...      CONCACAF  2018-06-07\n",
              "57790   206      Eritrea  ...           CAF  2018-06-07\n",
              "57791   206      Somalia  ...           CAF  2018-06-07\n",
              "57792   206        Tonga  ...           OFC  2018-06-07\n",
              "\n",
              "[5 rows x 16 columns]"
            ]
          },
          "metadata": {
            "tags": []
          },
          "execution_count": 102
        }
      ]
    },
    {
      "cell_type": "code",
      "metadata": {
        "id": "UlTEu3kIKE0U",
        "colab": {
          "base_uri": "https://localhost:8080/"
        },
        "outputId": "a696d091-6fdd-482a-c72d-da5aa0df70e1"
      },
      "source": [
        "#checking the datatypes in each column\n",
        "results.dtypes"
      ],
      "execution_count": 103,
      "outputs": [
        {
          "output_type": "execute_result",
          "data": {
            "text/plain": [
              "date          object\n",
              "home_team     object\n",
              "away_team     object\n",
              "home_score     int64\n",
              "away_score     int64\n",
              "tournament    object\n",
              "city          object\n",
              "country       object\n",
              "neutral         bool\n",
              "dtype: object"
            ]
          },
          "metadata": {
            "tags": []
          },
          "execution_count": 103
        }
      ]
    },
    {
      "cell_type": "code",
      "metadata": {
        "id": "oK1H1cK9OicZ",
        "colab": {
          "base_uri": "https://localhost:8080/"
        },
        "outputId": "ca6fc4cb-92bd-4c61-afaf-cec6c5657a75"
      },
      "source": [
        "#checking the datatypes in each column\n",
        "fifa_ranking.dtypes"
      ],
      "execution_count": 104,
      "outputs": [
        {
          "output_type": "execute_result",
          "data": {
            "text/plain": [
              "rank                         int64\n",
              "country_full                object\n",
              "country_abrv                object\n",
              "total_points               float64\n",
              "previous_points              int64\n",
              "rank_change                  int64\n",
              "cur_year_avg               float64\n",
              "cur_year_avg_weighted      float64\n",
              "last_year_avg              float64\n",
              "last_year_avg_weighted     float64\n",
              "two_year_ago_avg           float64\n",
              "two_year_ago_weighted      float64\n",
              "three_year_ago_avg         float64\n",
              "three_year_ago_weighted    float64\n",
              "confederation               object\n",
              "rank_date                   object\n",
              "dtype: object"
            ]
          },
          "metadata": {
            "tags": []
          },
          "execution_count": 104
        }
      ]
    },
    {
      "cell_type": "code",
      "metadata": {
        "id": "vBUw2m_sO5XX",
        "colab": {
          "base_uri": "https://localhost:8080/"
        },
        "outputId": "3d318dcd-921f-4ba3-8a1a-3fc461bb15cb"
      },
      "source": [
        "#Checking the data's info\n",
        "fifa_ranking.info()"
      ],
      "execution_count": 105,
      "outputs": [
        {
          "output_type": "stream",
          "text": [
            "<class 'pandas.core.frame.DataFrame'>\n",
            "RangeIndex: 57793 entries, 0 to 57792\n",
            "Data columns (total 16 columns):\n",
            " #   Column                   Non-Null Count  Dtype  \n",
            "---  ------                   --------------  -----  \n",
            " 0   rank                     57793 non-null  int64  \n",
            " 1   country_full             57793 non-null  object \n",
            " 2   country_abrv             57793 non-null  object \n",
            " 3   total_points             57793 non-null  float64\n",
            " 4   previous_points          57793 non-null  int64  \n",
            " 5   rank_change              57793 non-null  int64  \n",
            " 6   cur_year_avg             57793 non-null  float64\n",
            " 7   cur_year_avg_weighted    57793 non-null  float64\n",
            " 8   last_year_avg            57793 non-null  float64\n",
            " 9   last_year_avg_weighted   57793 non-null  float64\n",
            " 10  two_year_ago_avg         57793 non-null  float64\n",
            " 11  two_year_ago_weighted    57793 non-null  float64\n",
            " 12  three_year_ago_avg       57793 non-null  float64\n",
            " 13  three_year_ago_weighted  57793 non-null  float64\n",
            " 14  confederation            57793 non-null  object \n",
            " 15  rank_date                57793 non-null  object \n",
            "dtypes: float64(9), int64(3), object(4)\n",
            "memory usage: 7.1+ MB\n"
          ],
          "name": "stdout"
        }
      ]
    },
    {
      "cell_type": "code",
      "metadata": {
        "id": "9_woLMFFnZ1P",
        "colab": {
          "base_uri": "https://localhost:8080/",
          "height": 69
        },
        "outputId": "6aafa46e-068a-4e22-c27b-c91ca5289aa8"
      },
      "source": [
        "# Changing the columns to lower case\n",
        "fifa_ranking.columns = fifa_ranking.columns.str.lower()\n",
        "fifa_ranking.head(0)"
      ],
      "execution_count": 106,
      "outputs": [
        {
          "output_type": "execute_result",
          "data": {
            "text/html": [
              "<div>\n",
              "<style scoped>\n",
              "    .dataframe tbody tr th:only-of-type {\n",
              "        vertical-align: middle;\n",
              "    }\n",
              "\n",
              "    .dataframe tbody tr th {\n",
              "        vertical-align: top;\n",
              "    }\n",
              "\n",
              "    .dataframe thead th {\n",
              "        text-align: right;\n",
              "    }\n",
              "</style>\n",
              "<table border=\"1\" class=\"dataframe\">\n",
              "  <thead>\n",
              "    <tr style=\"text-align: right;\">\n",
              "      <th></th>\n",
              "      <th>rank</th>\n",
              "      <th>country_full</th>\n",
              "      <th>country_abrv</th>\n",
              "      <th>total_points</th>\n",
              "      <th>previous_points</th>\n",
              "      <th>rank_change</th>\n",
              "      <th>cur_year_avg</th>\n",
              "      <th>cur_year_avg_weighted</th>\n",
              "      <th>last_year_avg</th>\n",
              "      <th>last_year_avg_weighted</th>\n",
              "      <th>two_year_ago_avg</th>\n",
              "      <th>two_year_ago_weighted</th>\n",
              "      <th>three_year_ago_avg</th>\n",
              "      <th>three_year_ago_weighted</th>\n",
              "      <th>confederation</th>\n",
              "      <th>rank_date</th>\n",
              "    </tr>\n",
              "  </thead>\n",
              "  <tbody>\n",
              "  </tbody>\n",
              "</table>\n",
              "</div>"
            ],
            "text/plain": [
              "Empty DataFrame\n",
              "Columns: [rank, country_full, country_abrv, total_points, previous_points, rank_change, cur_year_avg, cur_year_avg_weighted, last_year_avg, last_year_avg_weighted, two_year_ago_avg, two_year_ago_weighted, three_year_ago_avg, three_year_ago_weighted, confederation, rank_date]\n",
              "Index: []"
            ]
          },
          "metadata": {
            "tags": []
          },
          "execution_count": 106
        }
      ]
    },
    {
      "cell_type": "code",
      "metadata": {
        "id": "0uo0mqC7mwK8"
      },
      "source": [
        "# Get ranking data for home team\n",
        "home = pd.merge(results, fifa_ranking, how = 'inner', left_on=['date', 'home_team'], right_on=['rank_date', 'country_full'])\n",
        "home \n",
        "# Get ranking data for away team \n",
        "away = pd.merge(results, fifa_ranking, how = 'inner', left_on=['date', 'away_team'], right_on=['rank_date', 'country_full'])\n",
        "away\n",
        "final = pd.merge(home, away, how='inner', left_on=['date', 'away_team', 'home_score', 'away_score', \n",
        "                                                  'home_team', 'tournament', 'country'], right_on=['date', 'away_team', \n",
        "                                                  'home_score', 'away_score', 'home_team', 'tournament', 'country'])"
      ],
      "execution_count": 107,
      "outputs": []
    },
    {
      "cell_type": "code",
      "metadata": {
        "id": "5pWB2pSnM-Xq",
        "colab": {
          "base_uri": "https://localhost:8080/",
          "height": 360
        },
        "outputId": "d69c37a4-bd8e-4543-b80c-ca13452846ed"
      },
      "source": [
        "#previewing our dataset\n",
        "final.head(5)"
      ],
      "execution_count": 108,
      "outputs": [
        {
          "output_type": "execute_result",
          "data": {
            "text/html": [
              "<div>\n",
              "<style scoped>\n",
              "    .dataframe tbody tr th:only-of-type {\n",
              "        vertical-align: middle;\n",
              "    }\n",
              "\n",
              "    .dataframe tbody tr th {\n",
              "        vertical-align: top;\n",
              "    }\n",
              "\n",
              "    .dataframe thead th {\n",
              "        text-align: right;\n",
              "    }\n",
              "</style>\n",
              "<table border=\"1\" class=\"dataframe\">\n",
              "  <thead>\n",
              "    <tr style=\"text-align: right;\">\n",
              "      <th></th>\n",
              "      <th>date</th>\n",
              "      <th>home_team</th>\n",
              "      <th>away_team</th>\n",
              "      <th>home_score</th>\n",
              "      <th>away_score</th>\n",
              "      <th>tournament</th>\n",
              "      <th>city_x</th>\n",
              "      <th>country</th>\n",
              "      <th>neutral_x</th>\n",
              "      <th>rank_x</th>\n",
              "      <th>country_full_x</th>\n",
              "      <th>country_abrv_x</th>\n",
              "      <th>total_points_x</th>\n",
              "      <th>previous_points_x</th>\n",
              "      <th>rank_change_x</th>\n",
              "      <th>cur_year_avg_x</th>\n",
              "      <th>cur_year_avg_weighted_x</th>\n",
              "      <th>last_year_avg_x</th>\n",
              "      <th>last_year_avg_weighted_x</th>\n",
              "      <th>two_year_ago_avg_x</th>\n",
              "      <th>two_year_ago_weighted_x</th>\n",
              "      <th>three_year_ago_avg_x</th>\n",
              "      <th>three_year_ago_weighted_x</th>\n",
              "      <th>confederation_x</th>\n",
              "      <th>rank_date_x</th>\n",
              "      <th>city_y</th>\n",
              "      <th>neutral_y</th>\n",
              "      <th>rank_y</th>\n",
              "      <th>country_full_y</th>\n",
              "      <th>country_abrv_y</th>\n",
              "      <th>total_points_y</th>\n",
              "      <th>previous_points_y</th>\n",
              "      <th>rank_change_y</th>\n",
              "      <th>cur_year_avg_y</th>\n",
              "      <th>cur_year_avg_weighted_y</th>\n",
              "      <th>last_year_avg_y</th>\n",
              "      <th>last_year_avg_weighted_y</th>\n",
              "      <th>two_year_ago_avg_y</th>\n",
              "      <th>two_year_ago_weighted_y</th>\n",
              "      <th>three_year_ago_avg_y</th>\n",
              "      <th>three_year_ago_weighted_y</th>\n",
              "      <th>confederation_y</th>\n",
              "      <th>rank_date_y</th>\n",
              "    </tr>\n",
              "  </thead>\n",
              "  <tbody>\n",
              "    <tr>\n",
              "      <th>0</th>\n",
              "      <td>1993-08-08</td>\n",
              "      <td>Bolivia</td>\n",
              "      <td>Uruguay</td>\n",
              "      <td>3</td>\n",
              "      <td>1</td>\n",
              "      <td>FIFA World Cup qualification</td>\n",
              "      <td>La Paz</td>\n",
              "      <td>Bolivia</td>\n",
              "      <td>False</td>\n",
              "      <td>59</td>\n",
              "      <td>Bolivia</td>\n",
              "      <td>BOL</td>\n",
              "      <td>0.0</td>\n",
              "      <td>13</td>\n",
              "      <td>28</td>\n",
              "      <td>0.0</td>\n",
              "      <td>0.0</td>\n",
              "      <td>0.0</td>\n",
              "      <td>0.0</td>\n",
              "      <td>0.0</td>\n",
              "      <td>0.0</td>\n",
              "      <td>0.0</td>\n",
              "      <td>0.0</td>\n",
              "      <td>CONMEBOL</td>\n",
              "      <td>1993-08-08</td>\n",
              "      <td>La Paz</td>\n",
              "      <td>False</td>\n",
              "      <td>22</td>\n",
              "      <td>Uruguay</td>\n",
              "      <td>URU</td>\n",
              "      <td>0.0</td>\n",
              "      <td>47</td>\n",
              "      <td>-6</td>\n",
              "      <td>0.0</td>\n",
              "      <td>0.0</td>\n",
              "      <td>0.0</td>\n",
              "      <td>0.0</td>\n",
              "      <td>0.0</td>\n",
              "      <td>0.0</td>\n",
              "      <td>0.0</td>\n",
              "      <td>0.0</td>\n",
              "      <td>CONMEBOL</td>\n",
              "      <td>1993-08-08</td>\n",
              "    </tr>\n",
              "    <tr>\n",
              "      <th>1</th>\n",
              "      <td>1993-08-08</td>\n",
              "      <td>Brazil</td>\n",
              "      <td>Mexico</td>\n",
              "      <td>1</td>\n",
              "      <td>1</td>\n",
              "      <td>Friendly</td>\n",
              "      <td>Maceió</td>\n",
              "      <td>Brazil</td>\n",
              "      <td>False</td>\n",
              "      <td>8</td>\n",
              "      <td>Brazil</td>\n",
              "      <td>BRA</td>\n",
              "      <td>0.0</td>\n",
              "      <td>55</td>\n",
              "      <td>-5</td>\n",
              "      <td>0.0</td>\n",
              "      <td>0.0</td>\n",
              "      <td>0.0</td>\n",
              "      <td>0.0</td>\n",
              "      <td>0.0</td>\n",
              "      <td>0.0</td>\n",
              "      <td>0.0</td>\n",
              "      <td>0.0</td>\n",
              "      <td>CONMEBOL</td>\n",
              "      <td>1993-08-08</td>\n",
              "      <td>Maceió</td>\n",
              "      <td>False</td>\n",
              "      <td>14</td>\n",
              "      <td>Mexico</td>\n",
              "      <td>MEX</td>\n",
              "      <td>0.0</td>\n",
              "      <td>42</td>\n",
              "      <td>11</td>\n",
              "      <td>0.0</td>\n",
              "      <td>0.0</td>\n",
              "      <td>0.0</td>\n",
              "      <td>0.0</td>\n",
              "      <td>0.0</td>\n",
              "      <td>0.0</td>\n",
              "      <td>0.0</td>\n",
              "      <td>0.0</td>\n",
              "      <td>CONCACAF</td>\n",
              "      <td>1993-08-08</td>\n",
              "    </tr>\n",
              "    <tr>\n",
              "      <th>2</th>\n",
              "      <td>1993-08-08</td>\n",
              "      <td>Ecuador</td>\n",
              "      <td>Venezuela</td>\n",
              "      <td>5</td>\n",
              "      <td>0</td>\n",
              "      <td>FIFA World Cup qualification</td>\n",
              "      <td>Quito</td>\n",
              "      <td>Ecuador</td>\n",
              "      <td>False</td>\n",
              "      <td>35</td>\n",
              "      <td>Ecuador</td>\n",
              "      <td>ECU</td>\n",
              "      <td>0.0</td>\n",
              "      <td>23</td>\n",
              "      <td>30</td>\n",
              "      <td>0.0</td>\n",
              "      <td>0.0</td>\n",
              "      <td>0.0</td>\n",
              "      <td>0.0</td>\n",
              "      <td>0.0</td>\n",
              "      <td>0.0</td>\n",
              "      <td>0.0</td>\n",
              "      <td>0.0</td>\n",
              "      <td>CONMEBOL</td>\n",
              "      <td>1993-08-08</td>\n",
              "      <td>Quito</td>\n",
              "      <td>False</td>\n",
              "      <td>94</td>\n",
              "      <td>Venezuela</td>\n",
              "      <td>VEN</td>\n",
              "      <td>0.0</td>\n",
              "      <td>4</td>\n",
              "      <td>31</td>\n",
              "      <td>0.0</td>\n",
              "      <td>0.0</td>\n",
              "      <td>0.0</td>\n",
              "      <td>0.0</td>\n",
              "      <td>0.0</td>\n",
              "      <td>0.0</td>\n",
              "      <td>0.0</td>\n",
              "      <td>0.0</td>\n",
              "      <td>CONMEBOL</td>\n",
              "      <td>1993-08-08</td>\n",
              "    </tr>\n",
              "    <tr>\n",
              "      <th>3</th>\n",
              "      <td>1993-08-08</td>\n",
              "      <td>Guinea</td>\n",
              "      <td>Sierra Leone</td>\n",
              "      <td>1</td>\n",
              "      <td>0</td>\n",
              "      <td>Friendly</td>\n",
              "      <td>Conakry</td>\n",
              "      <td>Guinea</td>\n",
              "      <td>False</td>\n",
              "      <td>65</td>\n",
              "      <td>Guinea</td>\n",
              "      <td>GUI</td>\n",
              "      <td>0.0</td>\n",
              "      <td>23</td>\n",
              "      <td>-2</td>\n",
              "      <td>0.0</td>\n",
              "      <td>0.0</td>\n",
              "      <td>0.0</td>\n",
              "      <td>0.0</td>\n",
              "      <td>0.0</td>\n",
              "      <td>0.0</td>\n",
              "      <td>0.0</td>\n",
              "      <td>0.0</td>\n",
              "      <td>CAF</td>\n",
              "      <td>1993-08-08</td>\n",
              "      <td>Conakry</td>\n",
              "      <td>False</td>\n",
              "      <td>86</td>\n",
              "      <td>Sierra Leone</td>\n",
              "      <td>SLE</td>\n",
              "      <td>0.0</td>\n",
              "      <td>16</td>\n",
              "      <td>-7</td>\n",
              "      <td>0.0</td>\n",
              "      <td>0.0</td>\n",
              "      <td>0.0</td>\n",
              "      <td>0.0</td>\n",
              "      <td>0.0</td>\n",
              "      <td>0.0</td>\n",
              "      <td>0.0</td>\n",
              "      <td>0.0</td>\n",
              "      <td>CAF</td>\n",
              "      <td>1993-08-08</td>\n",
              "    </tr>\n",
              "    <tr>\n",
              "      <th>4</th>\n",
              "      <td>1993-08-08</td>\n",
              "      <td>Paraguay</td>\n",
              "      <td>Argentina</td>\n",
              "      <td>1</td>\n",
              "      <td>3</td>\n",
              "      <td>FIFA World Cup qualification</td>\n",
              "      <td>Asunción</td>\n",
              "      <td>Paraguay</td>\n",
              "      <td>False</td>\n",
              "      <td>67</td>\n",
              "      <td>Paraguay</td>\n",
              "      <td>PAR</td>\n",
              "      <td>0.0</td>\n",
              "      <td>22</td>\n",
              "      <td>1</td>\n",
              "      <td>0.0</td>\n",
              "      <td>0.0</td>\n",
              "      <td>0.0</td>\n",
              "      <td>0.0</td>\n",
              "      <td>0.0</td>\n",
              "      <td>0.0</td>\n",
              "      <td>0.0</td>\n",
              "      <td>0.0</td>\n",
              "      <td>CONMEBOL</td>\n",
              "      <td>1993-08-08</td>\n",
              "      <td>Asunción</td>\n",
              "      <td>False</td>\n",
              "      <td>5</td>\n",
              "      <td>Argentina</td>\n",
              "      <td>ARG</td>\n",
              "      <td>0.0</td>\n",
              "      <td>51</td>\n",
              "      <td>5</td>\n",
              "      <td>0.0</td>\n",
              "      <td>0.0</td>\n",
              "      <td>0.0</td>\n",
              "      <td>0.0</td>\n",
              "      <td>0.0</td>\n",
              "      <td>0.0</td>\n",
              "      <td>0.0</td>\n",
              "      <td>0.0</td>\n",
              "      <td>CONMEBOL</td>\n",
              "      <td>1993-08-08</td>\n",
              "    </tr>\n",
              "  </tbody>\n",
              "</table>\n",
              "</div>"
            ],
            "text/plain": [
              "         date home_team  ... confederation_y  rank_date_y\n",
              "0  1993-08-08   Bolivia  ...        CONMEBOL   1993-08-08\n",
              "1  1993-08-08    Brazil  ...        CONCACAF   1993-08-08\n",
              "2  1993-08-08   Ecuador  ...        CONMEBOL   1993-08-08\n",
              "3  1993-08-08    Guinea  ...             CAF   1993-08-08\n",
              "4  1993-08-08  Paraguay  ...        CONMEBOL   1993-08-08\n",
              "\n",
              "[5 rows x 43 columns]"
            ]
          },
          "metadata": {
            "tags": []
          },
          "execution_count": 108
        }
      ]
    },
    {
      "cell_type": "markdown",
      "metadata": {
        "id": "mmVu667oPOWU"
      },
      "source": [
        "#5.0 Data Preparation"
      ]
    },
    {
      "cell_type": "markdown",
      "metadata": {
        "id": "hi2Fa_U3PVoA"
      },
      "source": [
        "###Checking for null values"
      ]
    },
    {
      "cell_type": "code",
      "metadata": {
        "id": "pw1YFgCeOlcZ",
        "colab": {
          "base_uri": "https://localhost:8080/"
        },
        "outputId": "2fd07112-bd61-4715-8547-4410d0099c38"
      },
      "source": [
        "#checking for null values\n",
        "final.isnull().any()"
      ],
      "execution_count": 109,
      "outputs": [
        {
          "output_type": "execute_result",
          "data": {
            "text/plain": [
              "date                         False\n",
              "home_team                    False\n",
              "away_team                    False\n",
              "home_score                   False\n",
              "away_score                   False\n",
              "tournament                   False\n",
              "city_x                       False\n",
              "country                      False\n",
              "neutral_x                    False\n",
              "rank_x                       False\n",
              "country_full_x               False\n",
              "country_abrv_x               False\n",
              "total_points_x               False\n",
              "previous_points_x            False\n",
              "rank_change_x                False\n",
              "cur_year_avg_x               False\n",
              "cur_year_avg_weighted_x      False\n",
              "last_year_avg_x              False\n",
              "last_year_avg_weighted_x     False\n",
              "two_year_ago_avg_x           False\n",
              "two_year_ago_weighted_x      False\n",
              "three_year_ago_avg_x         False\n",
              "three_year_ago_weighted_x    False\n",
              "confederation_x              False\n",
              "rank_date_x                  False\n",
              "city_y                       False\n",
              "neutral_y                    False\n",
              "rank_y                       False\n",
              "country_full_y               False\n",
              "country_abrv_y               False\n",
              "total_points_y               False\n",
              "previous_points_y            False\n",
              "rank_change_y                False\n",
              "cur_year_avg_y               False\n",
              "cur_year_avg_weighted_y      False\n",
              "last_year_avg_y              False\n",
              "last_year_avg_weighted_y     False\n",
              "two_year_ago_avg_y           False\n",
              "two_year_ago_weighted_y      False\n",
              "three_year_ago_avg_y         False\n",
              "three_year_ago_weighted_y    False\n",
              "confederation_y              False\n",
              "rank_date_y                  False\n",
              "dtype: bool"
            ]
          },
          "metadata": {
            "tags": []
          },
          "execution_count": 109
        }
      ]
    },
    {
      "cell_type": "code",
      "metadata": {
        "id": "MGgHDkRBPu3A",
        "colab": {
          "base_uri": "https://localhost:8080/"
        },
        "outputId": "f9c165d9-8a4c-4860-db22-b89b4d404f6f"
      },
      "source": [
        "#checking the data\n",
        "final.dtypes"
      ],
      "execution_count": 110,
      "outputs": [
        {
          "output_type": "execute_result",
          "data": {
            "text/plain": [
              "date                          object\n",
              "home_team                     object\n",
              "away_team                     object\n",
              "home_score                     int64\n",
              "away_score                     int64\n",
              "tournament                    object\n",
              "city_x                        object\n",
              "country                       object\n",
              "neutral_x                       bool\n",
              "rank_x                         int64\n",
              "country_full_x                object\n",
              "country_abrv_x                object\n",
              "total_points_x               float64\n",
              "previous_points_x              int64\n",
              "rank_change_x                  int64\n",
              "cur_year_avg_x               float64\n",
              "cur_year_avg_weighted_x      float64\n",
              "last_year_avg_x              float64\n",
              "last_year_avg_weighted_x     float64\n",
              "two_year_ago_avg_x           float64\n",
              "two_year_ago_weighted_x      float64\n",
              "three_year_ago_avg_x         float64\n",
              "three_year_ago_weighted_x    float64\n",
              "confederation_x               object\n",
              "rank_date_x                   object\n",
              "city_y                        object\n",
              "neutral_y                       bool\n",
              "rank_y                         int64\n",
              "country_full_y                object\n",
              "country_abrv_y                object\n",
              "total_points_y               float64\n",
              "previous_points_y              int64\n",
              "rank_change_y                  int64\n",
              "cur_year_avg_y               float64\n",
              "cur_year_avg_weighted_y      float64\n",
              "last_year_avg_y              float64\n",
              "last_year_avg_weighted_y     float64\n",
              "two_year_ago_avg_y           float64\n",
              "two_year_ago_weighted_y      float64\n",
              "three_year_ago_avg_y         float64\n",
              "three_year_ago_weighted_y    float64\n",
              "confederation_y               object\n",
              "rank_date_y                   object\n",
              "dtype: object"
            ]
          },
          "metadata": {
            "tags": []
          },
          "execution_count": 110
        }
      ]
    },
    {
      "cell_type": "code",
      "metadata": {
        "colab": {
          "base_uri": "https://localhost:8080/"
        },
        "id": "4iX74fGZptG-",
        "outputId": "d1b9e7cd-af2b-4ee2-b571-a5243f8b04f5"
      },
      "source": [
        "#checking our dataset shape\n",
        "final.shape"
      ],
      "execution_count": 111,
      "outputs": [
        {
          "output_type": "execute_result",
          "data": {
            "text/plain": [
              "(871, 43)"
            ]
          },
          "metadata": {
            "tags": []
          },
          "execution_count": 111
        }
      ]
    },
    {
      "cell_type": "code",
      "metadata": {
        "id": "4bSPIOoyXR9x",
        "colab": {
          "base_uri": "https://localhost:8080/",
          "height": 416
        },
        "outputId": "3fc02244-4dca-4e4f-c80a-65b1fb714352"
      },
      "source": [
        "import seaborn as sb\n",
        "sb.heatmap(final.corr()) "
      ],
      "execution_count": 112,
      "outputs": [
        {
          "output_type": "execute_result",
          "data": {
            "text/plain": [
              "<matplotlib.axes._subplots.AxesSubplot at 0x7fba5944ca50>"
            ]
          },
          "metadata": {
            "tags": []
          },
          "execution_count": 112
        },
        {
          "output_type": "display_data",
          "data": {
            "image/png": "[encoded data removed]",
            "text/plain": [
              "<Figure size 432x288 with 2 Axes>"
            ]
          },
          "metadata": {
            "tags": [],
            "needs_background": "light"
          }
        }
      ]
    },
    {
      "cell_type": "code",
      "metadata": {
        "id": "z28KTFdtQCPH",
        "colab": {
          "base_uri": "https://localhost:8080/",
          "height": 317
        },
        "outputId": "bb391eea-cfc0-49d3-9c26-05ad96601edb"
      },
      "source": [
        "final.describe()"
      ],
      "execution_count": 113,
      "outputs": [
        {
          "output_type": "execute_result",
          "data": {
            "text/html": [
              "<div>\n",
              "<style scoped>\n",
              "    .dataframe tbody tr th:only-of-type {\n",
              "        vertical-align: middle;\n",
              "    }\n",
              "\n",
              "    .dataframe tbody tr th {\n",
              "        vertical-align: top;\n",
              "    }\n",
              "\n",
              "    .dataframe thead th {\n",
              "        text-align: right;\n",
              "    }\n",
              "</style>\n",
              "<table border=\"1\" class=\"dataframe\">\n",
              "  <thead>\n",
              "    <tr style=\"text-align: right;\">\n",
              "      <th></th>\n",
              "      <th>home_score</th>\n",
              "      <th>away_score</th>\n",
              "      <th>rank_x</th>\n",
              "      <th>total_points_x</th>\n",
              "      <th>previous_points_x</th>\n",
              "      <th>rank_change_x</th>\n",
              "      <th>cur_year_avg_x</th>\n",
              "      <th>cur_year_avg_weighted_x</th>\n",
              "      <th>last_year_avg_x</th>\n",
              "      <th>last_year_avg_weighted_x</th>\n",
              "      <th>two_year_ago_avg_x</th>\n",
              "      <th>two_year_ago_weighted_x</th>\n",
              "      <th>three_year_ago_avg_x</th>\n",
              "      <th>three_year_ago_weighted_x</th>\n",
              "      <th>rank_y</th>\n",
              "      <th>total_points_y</th>\n",
              "      <th>previous_points_y</th>\n",
              "      <th>rank_change_y</th>\n",
              "      <th>cur_year_avg_y</th>\n",
              "      <th>cur_year_avg_weighted_y</th>\n",
              "      <th>last_year_avg_y</th>\n",
              "      <th>last_year_avg_weighted_y</th>\n",
              "      <th>two_year_ago_avg_y</th>\n",
              "      <th>two_year_ago_weighted_y</th>\n",
              "      <th>three_year_ago_avg_y</th>\n",
              "      <th>three_year_ago_weighted_y</th>\n",
              "    </tr>\n",
              "  </thead>\n",
              "  <tbody>\n",
              "    <tr>\n",
              "      <th>count</th>\n",
              "      <td>871.000000</td>\n",
              "      <td>871.000000</td>\n",
              "      <td>871.000000</td>\n",
              "      <td>871.000000</td>\n",
              "      <td>871.000000</td>\n",
              "      <td>871.000000</td>\n",
              "      <td>871.000000</td>\n",
              "      <td>871.000000</td>\n",
              "      <td>871.000000</td>\n",
              "      <td>871.000000</td>\n",
              "      <td>871.000000</td>\n",
              "      <td>871.000000</td>\n",
              "      <td>871.000000</td>\n",
              "      <td>871.000000</td>\n",
              "      <td>871.000000</td>\n",
              "      <td>871.000000</td>\n",
              "      <td>871.000000</td>\n",
              "      <td>871.000000</td>\n",
              "      <td>871.000000</td>\n",
              "      <td>871.000000</td>\n",
              "      <td>871.000000</td>\n",
              "      <td>871.000000</td>\n",
              "      <td>871.000000</td>\n",
              "      <td>871.000000</td>\n",
              "      <td>871.000000</td>\n",
              "      <td>871.000000</td>\n",
              "    </tr>\n",
              "    <tr>\n",
              "      <th>mean</th>\n",
              "      <td>1.632606</td>\n",
              "      <td>1.004592</td>\n",
              "      <td>65.549943</td>\n",
              "      <td>38.543123</td>\n",
              "      <td>464.027555</td>\n",
              "      <td>-0.079219</td>\n",
              "      <td>19.919989</td>\n",
              "      <td>19.919989</td>\n",
              "      <td>18.633548</td>\n",
              "      <td>9.316820</td>\n",
              "      <td>19.001493</td>\n",
              "      <td>5.700482</td>\n",
              "      <td>18.029437</td>\n",
              "      <td>3.605901</td>\n",
              "      <td>69.918485</td>\n",
              "      <td>30.606923</td>\n",
              "      <td>448.623421</td>\n",
              "      <td>0.140069</td>\n",
              "      <td>15.080597</td>\n",
              "      <td>15.080597</td>\n",
              "      <td>15.468990</td>\n",
              "      <td>7.734489</td>\n",
              "      <td>15.843766</td>\n",
              "      <td>4.753123</td>\n",
              "      <td>15.193846</td>\n",
              "      <td>3.038749</td>\n",
              "    </tr>\n",
              "    <tr>\n",
              "      <th>std</th>\n",
              "      <td>1.905960</td>\n",
              "      <td>1.154691</td>\n",
              "      <td>47.557993</td>\n",
              "      <td>160.974942</td>\n",
              "      <td>301.538498</td>\n",
              "      <td>4.480037</td>\n",
              "      <td>84.468506</td>\n",
              "      <td>84.468506</td>\n",
              "      <td>85.822417</td>\n",
              "      <td>42.911114</td>\n",
              "      <td>81.884473</td>\n",
              "      <td>24.565459</td>\n",
              "      <td>77.406453</td>\n",
              "      <td>15.481310</td>\n",
              "      <td>50.497652</td>\n",
              "      <td>134.737527</td>\n",
              "      <td>315.851144</td>\n",
              "      <td>4.834135</td>\n",
              "      <td>70.112456</td>\n",
              "      <td>70.112456</td>\n",
              "      <td>69.484839</td>\n",
              "      <td>34.742438</td>\n",
              "      <td>73.406703</td>\n",
              "      <td>22.021957</td>\n",
              "      <td>68.798778</td>\n",
              "      <td>13.759731</td>\n",
              "    </tr>\n",
              "    <tr>\n",
              "      <th>min</th>\n",
              "      <td>0.000000</td>\n",
              "      <td>0.000000</td>\n",
              "      <td>1.000000</td>\n",
              "      <td>0.000000</td>\n",
              "      <td>0.000000</td>\n",
              "      <td>-22.000000</td>\n",
              "      <td>0.000000</td>\n",
              "      <td>0.000000</td>\n",
              "      <td>0.000000</td>\n",
              "      <td>0.000000</td>\n",
              "      <td>0.000000</td>\n",
              "      <td>0.000000</td>\n",
              "      <td>0.000000</td>\n",
              "      <td>0.000000</td>\n",
              "      <td>1.000000</td>\n",
              "      <td>0.000000</td>\n",
              "      <td>0.000000</td>\n",
              "      <td>-43.000000</td>\n",
              "      <td>0.000000</td>\n",
              "      <td>0.000000</td>\n",
              "      <td>0.000000</td>\n",
              "      <td>0.000000</td>\n",
              "      <td>0.000000</td>\n",
              "      <td>0.000000</td>\n",
              "      <td>0.000000</td>\n",
              "      <td>0.000000</td>\n",
              "    </tr>\n",
              "    <tr>\n",
              "      <th>25%</th>\n",
              "      <td>0.000000</td>\n",
              "      <td>0.000000</td>\n",
              "      <td>27.000000</td>\n",
              "      <td>0.000000</td>\n",
              "      <td>231.000000</td>\n",
              "      <td>-2.000000</td>\n",
              "      <td>0.000000</td>\n",
              "      <td>0.000000</td>\n",
              "      <td>0.000000</td>\n",
              "      <td>0.000000</td>\n",
              "      <td>0.000000</td>\n",
              "      <td>0.000000</td>\n",
              "      <td>0.000000</td>\n",
              "      <td>0.000000</td>\n",
              "      <td>28.000000</td>\n",
              "      <td>0.000000</td>\n",
              "      <td>172.500000</td>\n",
              "      <td>-1.000000</td>\n",
              "      <td>0.000000</td>\n",
              "      <td>0.000000</td>\n",
              "      <td>0.000000</td>\n",
              "      <td>0.000000</td>\n",
              "      <td>0.000000</td>\n",
              "      <td>0.000000</td>\n",
              "      <td>0.000000</td>\n",
              "      <td>0.000000</td>\n",
              "    </tr>\n",
              "    <tr>\n",
              "      <th>50%</th>\n",
              "      <td>1.000000</td>\n",
              "      <td>1.000000</td>\n",
              "      <td>58.000000</td>\n",
              "      <td>0.000000</td>\n",
              "      <td>485.000000</td>\n",
              "      <td>0.000000</td>\n",
              "      <td>0.000000</td>\n",
              "      <td>0.000000</td>\n",
              "      <td>0.000000</td>\n",
              "      <td>0.000000</td>\n",
              "      <td>0.000000</td>\n",
              "      <td>0.000000</td>\n",
              "      <td>0.000000</td>\n",
              "      <td>0.000000</td>\n",
              "      <td>61.000000</td>\n",
              "      <td>0.000000</td>\n",
              "      <td>452.000000</td>\n",
              "      <td>0.000000</td>\n",
              "      <td>0.000000</td>\n",
              "      <td>0.000000</td>\n",
              "      <td>0.000000</td>\n",
              "      <td>0.000000</td>\n",
              "      <td>0.000000</td>\n",
              "      <td>0.000000</td>\n",
              "      <td>0.000000</td>\n",
              "      <td>0.000000</td>\n",
              "    </tr>\n",
              "    <tr>\n",
              "      <th>75%</th>\n",
              "      <td>2.000000</td>\n",
              "      <td>2.000000</td>\n",
              "      <td>95.000000</td>\n",
              "      <td>0.000000</td>\n",
              "      <td>652.000000</td>\n",
              "      <td>1.000000</td>\n",
              "      <td>0.000000</td>\n",
              "      <td>0.000000</td>\n",
              "      <td>0.000000</td>\n",
              "      <td>0.000000</td>\n",
              "      <td>0.000000</td>\n",
              "      <td>0.000000</td>\n",
              "      <td>0.000000</td>\n",
              "      <td>0.000000</td>\n",
              "      <td>102.500000</td>\n",
              "      <td>0.000000</td>\n",
              "      <td>629.500000</td>\n",
              "      <td>1.000000</td>\n",
              "      <td>0.000000</td>\n",
              "      <td>0.000000</td>\n",
              "      <td>0.000000</td>\n",
              "      <td>0.000000</td>\n",
              "      <td>0.000000</td>\n",
              "      <td>0.000000</td>\n",
              "      <td>0.000000</td>\n",
              "      <td>0.000000</td>\n",
              "    </tr>\n",
              "    <tr>\n",
              "      <th>max</th>\n",
              "      <td>31.000000</td>\n",
              "      <td>9.000000</td>\n",
              "      <td>206.000000</td>\n",
              "      <td>1273.690000</td>\n",
              "      <td>1683.000000</td>\n",
              "      <td>38.000000</td>\n",
              "      <td>788.680000</td>\n",
              "      <td>788.680000</td>\n",
              "      <td>1008.940000</td>\n",
              "      <td>504.470000</td>\n",
              "      <td>748.610000</td>\n",
              "      <td>224.580000</td>\n",
              "      <td>640.010000</td>\n",
              "      <td>128.000000</td>\n",
              "      <td>209.000000</td>\n",
              "      <td>1181.430000</td>\n",
              "      <td>1883.000000</td>\n",
              "      <td>34.000000</td>\n",
              "      <td>817.580000</td>\n",
              "      <td>817.580000</td>\n",
              "      <td>617.620000</td>\n",
              "      <td>308.810000</td>\n",
              "      <td>637.290000</td>\n",
              "      <td>191.190000</td>\n",
              "      <td>665.550000</td>\n",
              "      <td>133.110000</td>\n",
              "    </tr>\n",
              "  </tbody>\n",
              "</table>\n",
              "</div>"
            ],
            "text/plain": [
              "       home_score  away_score  ...  three_year_ago_avg_y  three_year_ago_weighted_y\n",
              "count  871.000000  871.000000  ...            871.000000                 871.000000\n",
              "mean     1.632606    1.004592  ...             15.193846                   3.038749\n",
              "std      1.905960    1.154691  ...             68.798778                  13.759731\n",
              "min      0.000000    0.000000  ...              0.000000                   0.000000\n",
              "25%      0.000000    0.000000  ...              0.000000                   0.000000\n",
              "50%      1.000000    1.000000  ...              0.000000                   0.000000\n",
              "75%      2.000000    2.000000  ...              0.000000                   0.000000\n",
              "max     31.000000    9.000000  ...            665.550000                 133.110000\n",
              "\n",
              "[8 rows x 26 columns]"
            ]
          },
          "metadata": {
            "tags": []
          },
          "execution_count": 113
        }
      ]
    },
    {
      "cell_type": "markdown",
      "metadata": {
        "id": "6bK43HOe_hC3"
      },
      "source": [
        "###Checking for duplicates"
      ]
    },
    {
      "cell_type": "code",
      "metadata": {
        "id": "tVnh16Gk_wa9",
        "colab": {
          "base_uri": "https://localhost:8080/"
        },
        "outputId": "55834ce3-69dd-48a2-c73b-0550af598c72"
      },
      "source": [
        "# Checking if our data contains any duplicate values\n",
        "final.duplicated().sum()"
      ],
      "execution_count": 114,
      "outputs": [
        {
          "output_type": "execute_result",
          "data": {
            "text/plain": [
              "0"
            ]
          },
          "metadata": {
            "tags": []
          },
          "execution_count": 114
        }
      ]
    },
    {
      "cell_type": "markdown",
      "metadata": {
        "id": "v3f6rLTO_mK5"
      },
      "source": [
        "checking for outliers"
      ]
    },
    {
      "cell_type": "code",
      "metadata": {
        "id": "DVOjkB5DQ3Bb",
        "colab": {
          "base_uri": "https://localhost:8080/"
        },
        "outputId": "b12fabc5-1b5e-4be5-e13a-b22b13f19366"
      },
      "source": [
        "# Using the IQR formula\n",
        "Q1 = final.quantile(0.25)\n",
        "Q3 = final.quantile(0.75)\n",
        "IQR = Q3 - Q1\n",
        "((final< (Q1 - 1.5 * IQR)) | (final> (Q3 + 1.5 * IQR))).sum()"
      ],
      "execution_count": 115,
      "outputs": [
        {
          "output_type": "execute_result",
          "data": {
            "text/plain": [
              "away_score                     6\n",
              "away_team                      0\n",
              "city_x                         0\n",
              "city_y                         0\n",
              "confederation_x                0\n",
              "confederation_y                0\n",
              "country                        0\n",
              "country_abrv_x                 0\n",
              "country_abrv_y                 0\n",
              "country_full_x                 0\n",
              "country_full_y                 0\n",
              "cur_year_avg_weighted_x       68\n",
              "cur_year_avg_weighted_y       65\n",
              "cur_year_avg_x                68\n",
              "cur_year_avg_y                65\n",
              "date                           0\n",
              "home_score                    23\n",
              "home_team                      0\n",
              "last_year_avg_weighted_x      66\n",
              "last_year_avg_weighted_y      64\n",
              "last_year_avg_x               66\n",
              "last_year_avg_y               64\n",
              "neutral_x                    138\n",
              "neutral_y                    138\n",
              "previous_points_x              8\n",
              "previous_points_y             16\n",
              "rank_change_x                 85\n",
              "rank_change_y                142\n",
              "rank_date_x                    0\n",
              "rank_date_y                    0\n",
              "rank_x                         6\n",
              "rank_y                         0\n",
              "three_year_ago_avg_x          68\n",
              "three_year_ago_avg_y          66\n",
              "three_year_ago_weighted_x     68\n",
              "three_year_ago_weighted_y     66\n",
              "total_points_x                71\n",
              "total_points_y                71\n",
              "tournament                     0\n",
              "two_year_ago_avg_x            65\n",
              "two_year_ago_avg_y            66\n",
              "two_year_ago_weighted_x       65\n",
              "two_year_ago_weighted_y       66\n",
              "dtype: int64"
            ]
          },
          "metadata": {
            "tags": []
          },
          "execution_count": 115
        }
      ]
    },
    {
      "cell_type": "markdown",
      "metadata": {
        "id": "_6Muxom-mtr4"
      },
      "source": [
        "the outliers weren't dropped because they were a representation of the data and dropping them would change our dataset"
      ]
    },
    {
      "cell_type": "code",
      "metadata": {
        "colab": {
          "base_uri": "https://localhost:8080/"
        },
        "id": "GtCRgb8q8DWx",
        "outputId": "8d974cbe-d9b8-4459-ea0e-cdf66f8821dd"
      },
      "source": [
        "final.shape"
      ],
      "execution_count": 116,
      "outputs": [
        {
          "output_type": "execute_result",
          "data": {
            "text/plain": [
              "(871, 43)"
            ]
          },
          "metadata": {
            "tags": []
          },
          "execution_count": 116
        }
      ]
    },
    {
      "cell_type": "code",
      "metadata": {
        "id": "6cndpnwRKpqh"
      },
      "source": [
        ""
      ],
      "execution_count": 117,
      "outputs": []
    },
    {
      "cell_type": "code",
      "metadata": {
        "colab": {
          "base_uri": "https://localhost:8080/"
        },
        "id": "LSAY2a14ISTL",
        "outputId": "4062a42f-e28b-4eff-e6e8-66e55b47ad2e"
      },
      "source": [
        "final.tournament.unique()"
      ],
      "execution_count": 118,
      "outputs": [
        {
          "output_type": "execute_result",
          "data": {
            "text/plain": [
              "array(['FIFA World Cup qualification', 'Friendly', 'Merdeka Tournament',\n",
              "       'South Pacific Games', 'African Cup of Nations',\n",
              "       'CFU Caribbean Cup qualification', 'Copa América',\n",
              "       'UEFA Euro qualification',\n",
              "       'United Arab Emirates Friendship Tournament', 'UNCAF Cup',\n",
              "       'Korea Cup', 'Gold Cup', 'AFC Asian Cup qualification', 'USA Cup',\n",
              "       'Millennium Cup', \"King's Cup\", 'CFU Caribbean Cup', 'Gulf Cup',\n",
              "       'Cyprus International Tournament',\n",
              "       'Malta International Tournament', 'UAFA Cup', 'AFF Championship',\n",
              "       'SAFF Cup', 'Gold Cup qualification', \"Prime Minister's Cup\",\n",
              "       'Confederations Cup', 'AFC Asian Cup', 'Nehru Cup', 'COSAFA Cup',\n",
              "       'CECAFA Cup', 'EAFF Championship',\n",
              "       'AFC Challenge Cup qualification',\n",
              "       'African Cup of Nations qualification', 'Copa del Pacífico',\n",
              "       'Oceania Nations Cup', 'African Nations Championship',\n",
              "       'Windward Islands Tournament', 'Intercontinental Cup'],\n",
              "      dtype=object)"
            ]
          },
          "metadata": {
            "tags": []
          },
          "execution_count": 118
        }
      ]
    },
    {
      "cell_type": "code",
      "metadata": {
        "colab": {
          "base_uri": "https://localhost:8080/"
        },
        "id": "4r4EmulPIq1a",
        "outputId": "7b081485-8cc8-4187-84f2-8a24fcadbb03"
      },
      "source": [
        "final.columns"
      ],
      "execution_count": 119,
      "outputs": [
        {
          "output_type": "execute_result",
          "data": {
            "text/plain": [
              "Index(['date', 'home_team', 'away_team', 'home_score', 'away_score',\n",
              "       'tournament', 'city_x', 'country', 'neutral_x', 'rank_x',\n",
              "       'country_full_x', 'country_abrv_x', 'total_points_x',\n",
              "       'previous_points_x', 'rank_change_x', 'cur_year_avg_x',\n",
              "       'cur_year_avg_weighted_x', 'last_year_avg_x',\n",
              "       'last_year_avg_weighted_x', 'two_year_ago_avg_x',\n",
              "       'two_year_ago_weighted_x', 'three_year_ago_avg_x',\n",
              "       'three_year_ago_weighted_x', 'confederation_x', 'rank_date_x', 'city_y',\n",
              "       'neutral_y', 'rank_y', 'country_full_y', 'country_abrv_y',\n",
              "       'total_points_y', 'previous_points_y', 'rank_change_y',\n",
              "       'cur_year_avg_y', 'cur_year_avg_weighted_y', 'last_year_avg_y',\n",
              "       'last_year_avg_weighted_y', 'two_year_ago_avg_y',\n",
              "       'two_year_ago_weighted_y', 'three_year_ago_avg_y',\n",
              "       'three_year_ago_weighted_y', 'confederation_y', 'rank_date_y'],\n",
              "      dtype='object')"
            ]
          },
          "metadata": {
            "tags": []
          },
          "execution_count": 119
        }
      ]
    },
    {
      "cell_type": "code",
      "metadata": {
        "id": "Y9jJinK15KdH"
      },
      "source": [
        "final.drop([\"tournament\",'city_x', 'country','country_full_x','country_abrv_x'],axis=1, inplace=True)"
      ],
      "execution_count": 120,
      "outputs": []
    },
    {
      "cell_type": "code",
      "metadata": {
        "colab": {
          "base_uri": "https://localhost:8080/",
          "height": 309
        },
        "id": "fBOtlSZK5cmA",
        "outputId": "fd24af7a-5d2b-4ec7-da04-64309a8861a3"
      },
      "source": [
        "final.head()"
      ],
      "execution_count": 121,
      "outputs": [
        {
          "output_type": "execute_result",
          "data": {
            "text/html": [
              "<div>\n",
              "<style scoped>\n",
              "    .dataframe tbody tr th:only-of-type {\n",
              "        vertical-align: middle;\n",
              "    }\n",
              "\n",
              "    .dataframe tbody tr th {\n",
              "        vertical-align: top;\n",
              "    }\n",
              "\n",
              "    .dataframe thead th {\n",
              "        text-align: right;\n",
              "    }\n",
              "</style>\n",
              "<table border=\"1\" class=\"dataframe\">\n",
              "  <thead>\n",
              "    <tr style=\"text-align: right;\">\n",
              "      <th></th>\n",
              "      <th>date</th>\n",
              "      <th>home_team</th>\n",
              "      <th>away_team</th>\n",
              "      <th>home_score</th>\n",
              "      <th>away_score</th>\n",
              "      <th>neutral_x</th>\n",
              "      <th>rank_x</th>\n",
              "      <th>total_points_x</th>\n",
              "      <th>previous_points_x</th>\n",
              "      <th>rank_change_x</th>\n",
              "      <th>cur_year_avg_x</th>\n",
              "      <th>cur_year_avg_weighted_x</th>\n",
              "      <th>last_year_avg_x</th>\n",
              "      <th>last_year_avg_weighted_x</th>\n",
              "      <th>two_year_ago_avg_x</th>\n",
              "      <th>two_year_ago_weighted_x</th>\n",
              "      <th>three_year_ago_avg_x</th>\n",
              "      <th>three_year_ago_weighted_x</th>\n",
              "      <th>confederation_x</th>\n",
              "      <th>rank_date_x</th>\n",
              "      <th>city_y</th>\n",
              "      <th>neutral_y</th>\n",
              "      <th>rank_y</th>\n",
              "      <th>country_full_y</th>\n",
              "      <th>country_abrv_y</th>\n",
              "      <th>total_points_y</th>\n",
              "      <th>previous_points_y</th>\n",
              "      <th>rank_change_y</th>\n",
              "      <th>cur_year_avg_y</th>\n",
              "      <th>cur_year_avg_weighted_y</th>\n",
              "      <th>last_year_avg_y</th>\n",
              "      <th>last_year_avg_weighted_y</th>\n",
              "      <th>two_year_ago_avg_y</th>\n",
              "      <th>two_year_ago_weighted_y</th>\n",
              "      <th>three_year_ago_avg_y</th>\n",
              "      <th>three_year_ago_weighted_y</th>\n",
              "      <th>confederation_y</th>\n",
              "      <th>rank_date_y</th>\n",
              "    </tr>\n",
              "  </thead>\n",
              "  <tbody>\n",
              "    <tr>\n",
              "      <th>0</th>\n",
              "      <td>1993-08-08</td>\n",
              "      <td>Bolivia</td>\n",
              "      <td>Uruguay</td>\n",
              "      <td>3</td>\n",
              "      <td>1</td>\n",
              "      <td>False</td>\n",
              "      <td>59</td>\n",
              "      <td>0.0</td>\n",
              "      <td>13</td>\n",
              "      <td>28</td>\n",
              "      <td>0.0</td>\n",
              "      <td>0.0</td>\n",
              "      <td>0.0</td>\n",
              "      <td>0.0</td>\n",
              "      <td>0.0</td>\n",
              "      <td>0.0</td>\n",
              "      <td>0.0</td>\n",
              "      <td>0.0</td>\n",
              "      <td>CONMEBOL</td>\n",
              "      <td>1993-08-08</td>\n",
              "      <td>La Paz</td>\n",
              "      <td>False</td>\n",
              "      <td>22</td>\n",
              "      <td>Uruguay</td>\n",
              "      <td>URU</td>\n",
              "      <td>0.0</td>\n",
              "      <td>47</td>\n",
              "      <td>-6</td>\n",
              "      <td>0.0</td>\n",
              "      <td>0.0</td>\n",
              "      <td>0.0</td>\n",
              "      <td>0.0</td>\n",
              "      <td>0.0</td>\n",
              "      <td>0.0</td>\n",
              "      <td>0.0</td>\n",
              "      <td>0.0</td>\n",
              "      <td>CONMEBOL</td>\n",
              "      <td>1993-08-08</td>\n",
              "    </tr>\n",
              "    <tr>\n",
              "      <th>1</th>\n",
              "      <td>1993-08-08</td>\n",
              "      <td>Brazil</td>\n",
              "      <td>Mexico</td>\n",
              "      <td>1</td>\n",
              "      <td>1</td>\n",
              "      <td>False</td>\n",
              "      <td>8</td>\n",
              "      <td>0.0</td>\n",
              "      <td>55</td>\n",
              "      <td>-5</td>\n",
              "      <td>0.0</td>\n",
              "      <td>0.0</td>\n",
              "      <td>0.0</td>\n",
              "      <td>0.0</td>\n",
              "      <td>0.0</td>\n",
              "      <td>0.0</td>\n",
              "      <td>0.0</td>\n",
              "      <td>0.0</td>\n",
              "      <td>CONMEBOL</td>\n",
              "      <td>1993-08-08</td>\n",
              "      <td>Maceió</td>\n",
              "      <td>False</td>\n",
              "      <td>14</td>\n",
              "      <td>Mexico</td>\n",
              "      <td>MEX</td>\n",
              "      <td>0.0</td>\n",
              "      <td>42</td>\n",
              "      <td>11</td>\n",
              "      <td>0.0</td>\n",
              "      <td>0.0</td>\n",
              "      <td>0.0</td>\n",
              "      <td>0.0</td>\n",
              "      <td>0.0</td>\n",
              "      <td>0.0</td>\n",
              "      <td>0.0</td>\n",
              "      <td>0.0</td>\n",
              "      <td>CONCACAF</td>\n",
              "      <td>1993-08-08</td>\n",
              "    </tr>\n",
              "    <tr>\n",
              "      <th>2</th>\n",
              "      <td>1993-08-08</td>\n",
              "      <td>Ecuador</td>\n",
              "      <td>Venezuela</td>\n",
              "      <td>5</td>\n",
              "      <td>0</td>\n",
              "      <td>False</td>\n",
              "      <td>35</td>\n",
              "      <td>0.0</td>\n",
              "      <td>23</td>\n",
              "      <td>30</td>\n",
              "      <td>0.0</td>\n",
              "      <td>0.0</td>\n",
              "      <td>0.0</td>\n",
              "      <td>0.0</td>\n",
              "      <td>0.0</td>\n",
              "      <td>0.0</td>\n",
              "      <td>0.0</td>\n",
              "      <td>0.0</td>\n",
              "      <td>CONMEBOL</td>\n",
              "      <td>1993-08-08</td>\n",
              "      <td>Quito</td>\n",
              "      <td>False</td>\n",
              "      <td>94</td>\n",
              "      <td>Venezuela</td>\n",
              "      <td>VEN</td>\n",
              "      <td>0.0</td>\n",
              "      <td>4</td>\n",
              "      <td>31</td>\n",
              "      <td>0.0</td>\n",
              "      <td>0.0</td>\n",
              "      <td>0.0</td>\n",
              "      <td>0.0</td>\n",
              "      <td>0.0</td>\n",
              "      <td>0.0</td>\n",
              "      <td>0.0</td>\n",
              "      <td>0.0</td>\n",
              "      <td>CONMEBOL</td>\n",
              "      <td>1993-08-08</td>\n",
              "    </tr>\n",
              "    <tr>\n",
              "      <th>3</th>\n",
              "      <td>1993-08-08</td>\n",
              "      <td>Guinea</td>\n",
              "      <td>Sierra Leone</td>\n",
              "      <td>1</td>\n",
              "      <td>0</td>\n",
              "      <td>False</td>\n",
              "      <td>65</td>\n",
              "      <td>0.0</td>\n",
              "      <td>23</td>\n",
              "      <td>-2</td>\n",
              "      <td>0.0</td>\n",
              "      <td>0.0</td>\n",
              "      <td>0.0</td>\n",
              "      <td>0.0</td>\n",
              "      <td>0.0</td>\n",
              "      <td>0.0</td>\n",
              "      <td>0.0</td>\n",
              "      <td>0.0</td>\n",
              "      <td>CAF</td>\n",
              "      <td>1993-08-08</td>\n",
              "      <td>Conakry</td>\n",
              "      <td>False</td>\n",
              "      <td>86</td>\n",
              "      <td>Sierra Leone</td>\n",
              "      <td>SLE</td>\n",
              "      <td>0.0</td>\n",
              "      <td>16</td>\n",
              "      <td>-7</td>\n",
              "      <td>0.0</td>\n",
              "      <td>0.0</td>\n",
              "      <td>0.0</td>\n",
              "      <td>0.0</td>\n",
              "      <td>0.0</td>\n",
              "      <td>0.0</td>\n",
              "      <td>0.0</td>\n",
              "      <td>0.0</td>\n",
              "      <td>CAF</td>\n",
              "      <td>1993-08-08</td>\n",
              "    </tr>\n",
              "    <tr>\n",
              "      <th>4</th>\n",
              "      <td>1993-08-08</td>\n",
              "      <td>Paraguay</td>\n",
              "      <td>Argentina</td>\n",
              "      <td>1</td>\n",
              "      <td>3</td>\n",
              "      <td>False</td>\n",
              "      <td>67</td>\n",
              "      <td>0.0</td>\n",
              "      <td>22</td>\n",
              "      <td>1</td>\n",
              "      <td>0.0</td>\n",
              "      <td>0.0</td>\n",
              "      <td>0.0</td>\n",
              "      <td>0.0</td>\n",
              "      <td>0.0</td>\n",
              "      <td>0.0</td>\n",
              "      <td>0.0</td>\n",
              "      <td>0.0</td>\n",
              "      <td>CONMEBOL</td>\n",
              "      <td>1993-08-08</td>\n",
              "      <td>Asunción</td>\n",
              "      <td>False</td>\n",
              "      <td>5</td>\n",
              "      <td>Argentina</td>\n",
              "      <td>ARG</td>\n",
              "      <td>0.0</td>\n",
              "      <td>51</td>\n",
              "      <td>5</td>\n",
              "      <td>0.0</td>\n",
              "      <td>0.0</td>\n",
              "      <td>0.0</td>\n",
              "      <td>0.0</td>\n",
              "      <td>0.0</td>\n",
              "      <td>0.0</td>\n",
              "      <td>0.0</td>\n",
              "      <td>0.0</td>\n",
              "      <td>CONMEBOL</td>\n",
              "      <td>1993-08-08</td>\n",
              "    </tr>\n",
              "  </tbody>\n",
              "</table>\n",
              "</div>"
            ],
            "text/plain": [
              "         date home_team  ... confederation_y  rank_date_y\n",
              "0  1993-08-08   Bolivia  ...        CONMEBOL   1993-08-08\n",
              "1  1993-08-08    Brazil  ...        CONCACAF   1993-08-08\n",
              "2  1993-08-08   Ecuador  ...        CONMEBOL   1993-08-08\n",
              "3  1993-08-08    Guinea  ...             CAF   1993-08-08\n",
              "4  1993-08-08  Paraguay  ...        CONMEBOL   1993-08-08\n",
              "\n",
              "[5 rows x 38 columns]"
            ]
          },
          "metadata": {
            "tags": []
          },
          "execution_count": 121
        }
      ]
    },
    {
      "cell_type": "code",
      "metadata": {
        "id": "HK1sdjJA5nAu"
      },
      "source": [
        "final.drop([\"total_points_x\",\"cur_year_avg_x\",\"cur_year_avg_weighted_x\",\"last_year_avg_x\",\"last_year_avg_weighted_x\",\"two_year_ago_avg_x\",\"two_year_ago_weighted_x\"],axis=1, inplace=True)"
      ],
      "execution_count": 122,
      "outputs": []
    },
    {
      "cell_type": "code",
      "metadata": {
        "colab": {
          "base_uri": "https://localhost:8080/",
          "height": 165
        },
        "id": "a4YoyTkH6eMA",
        "outputId": "164f8db2-aecd-4609-a6eb-f4cba287bde1"
      },
      "source": [
        "final.head(2)"
      ],
      "execution_count": 123,
      "outputs": [
        {
          "output_type": "execute_result",
          "data": {
            "text/html": [
              "<div>\n",
              "<style scoped>\n",
              "    .dataframe tbody tr th:only-of-type {\n",
              "        vertical-align: middle;\n",
              "    }\n",
              "\n",
              "    .dataframe tbody tr th {\n",
              "        vertical-align: top;\n",
              "    }\n",
              "\n",
              "    .dataframe thead th {\n",
              "        text-align: right;\n",
              "    }\n",
              "</style>\n",
              "<table border=\"1\" class=\"dataframe\">\n",
              "  <thead>\n",
              "    <tr style=\"text-align: right;\">\n",
              "      <th></th>\n",
              "      <th>date</th>\n",
              "      <th>home_team</th>\n",
              "      <th>away_team</th>\n",
              "      <th>home_score</th>\n",
              "      <th>away_score</th>\n",
              "      <th>neutral_x</th>\n",
              "      <th>rank_x</th>\n",
              "      <th>previous_points_x</th>\n",
              "      <th>rank_change_x</th>\n",
              "      <th>three_year_ago_avg_x</th>\n",
              "      <th>three_year_ago_weighted_x</th>\n",
              "      <th>confederation_x</th>\n",
              "      <th>rank_date_x</th>\n",
              "      <th>city_y</th>\n",
              "      <th>neutral_y</th>\n",
              "      <th>rank_y</th>\n",
              "      <th>country_full_y</th>\n",
              "      <th>country_abrv_y</th>\n",
              "      <th>total_points_y</th>\n",
              "      <th>previous_points_y</th>\n",
              "      <th>rank_change_y</th>\n",
              "      <th>cur_year_avg_y</th>\n",
              "      <th>cur_year_avg_weighted_y</th>\n",
              "      <th>last_year_avg_y</th>\n",
              "      <th>last_year_avg_weighted_y</th>\n",
              "      <th>two_year_ago_avg_y</th>\n",
              "      <th>two_year_ago_weighted_y</th>\n",
              "      <th>three_year_ago_avg_y</th>\n",
              "      <th>three_year_ago_weighted_y</th>\n",
              "      <th>confederation_y</th>\n",
              "      <th>rank_date_y</th>\n",
              "    </tr>\n",
              "  </thead>\n",
              "  <tbody>\n",
              "    <tr>\n",
              "      <th>0</th>\n",
              "      <td>1993-08-08</td>\n",
              "      <td>Bolivia</td>\n",
              "      <td>Uruguay</td>\n",
              "      <td>3</td>\n",
              "      <td>1</td>\n",
              "      <td>False</td>\n",
              "      <td>59</td>\n",
              "      <td>13</td>\n",
              "      <td>28</td>\n",
              "      <td>0.0</td>\n",
              "      <td>0.0</td>\n",
              "      <td>CONMEBOL</td>\n",
              "      <td>1993-08-08</td>\n",
              "      <td>La Paz</td>\n",
              "      <td>False</td>\n",
              "      <td>22</td>\n",
              "      <td>Uruguay</td>\n",
              "      <td>URU</td>\n",
              "      <td>0.0</td>\n",
              "      <td>47</td>\n",
              "      <td>-6</td>\n",
              "      <td>0.0</td>\n",
              "      <td>0.0</td>\n",
              "      <td>0.0</td>\n",
              "      <td>0.0</td>\n",
              "      <td>0.0</td>\n",
              "      <td>0.0</td>\n",
              "      <td>0.0</td>\n",
              "      <td>0.0</td>\n",
              "      <td>CONMEBOL</td>\n",
              "      <td>1993-08-08</td>\n",
              "    </tr>\n",
              "    <tr>\n",
              "      <th>1</th>\n",
              "      <td>1993-08-08</td>\n",
              "      <td>Brazil</td>\n",
              "      <td>Mexico</td>\n",
              "      <td>1</td>\n",
              "      <td>1</td>\n",
              "      <td>False</td>\n",
              "      <td>8</td>\n",
              "      <td>55</td>\n",
              "      <td>-5</td>\n",
              "      <td>0.0</td>\n",
              "      <td>0.0</td>\n",
              "      <td>CONMEBOL</td>\n",
              "      <td>1993-08-08</td>\n",
              "      <td>Maceió</td>\n",
              "      <td>False</td>\n",
              "      <td>14</td>\n",
              "      <td>Mexico</td>\n",
              "      <td>MEX</td>\n",
              "      <td>0.0</td>\n",
              "      <td>42</td>\n",
              "      <td>11</td>\n",
              "      <td>0.0</td>\n",
              "      <td>0.0</td>\n",
              "      <td>0.0</td>\n",
              "      <td>0.0</td>\n",
              "      <td>0.0</td>\n",
              "      <td>0.0</td>\n",
              "      <td>0.0</td>\n",
              "      <td>0.0</td>\n",
              "      <td>CONCACAF</td>\n",
              "      <td>1993-08-08</td>\n",
              "    </tr>\n",
              "  </tbody>\n",
              "</table>\n",
              "</div>"
            ],
            "text/plain": [
              "         date home_team  ... confederation_y  rank_date_y\n",
              "0  1993-08-08   Bolivia  ...        CONMEBOL   1993-08-08\n",
              "1  1993-08-08    Brazil  ...        CONCACAF   1993-08-08\n",
              "\n",
              "[2 rows x 31 columns]"
            ]
          },
          "metadata": {
            "tags": []
          },
          "execution_count": 123
        }
      ]
    },
    {
      "cell_type": "code",
      "metadata": {
        "id": "tH9hDxgO9w2-"
      },
      "source": [
        "final.drop([\"date\",\"three_year_ago_avg_x\",\"three_year_ago_weighted_x\",\"confederation_x\",\"rank_date_x\",\"city_y\",\"country_full_y\",\"country_abrv_y\"],axis=1,inplace=True)"
      ],
      "execution_count": 124,
      "outputs": []
    },
    {
      "cell_type": "code",
      "metadata": {
        "id": "AI4eRGrb-6Jn"
      },
      "source": [
        "final.drop([\"confederation_y\",\"rank_date_y\"],axis=1,inplace=True)\n"
      ],
      "execution_count": 125,
      "outputs": []
    },
    {
      "cell_type": "markdown",
      "metadata": {
        "id": "TUksW46q_xcI"
      },
      "source": [
        "\n",
        "#6.0 Exploratory Analysis"
      ]
    },
    {
      "cell_type": "markdown",
      "metadata": {
        "id": "GkO3xjstFpbE"
      },
      "source": [
        "##categorical variables"
      ]
    },
    {
      "cell_type": "code",
      "metadata": {
        "colab": {
          "base_uri": "https://localhost:8080/"
        },
        "id": "igFNVLjv-Llh",
        "outputId": "e68455a0-6e43-4184-8d47-8f2c086b369b"
      },
      "source": [
        "final.info()"
      ],
      "execution_count": 126,
      "outputs": [
        {
          "output_type": "stream",
          "text": [
            "<class 'pandas.core.frame.DataFrame'>\n",
            "Int64Index: 871 entries, 0 to 870\n",
            "Data columns (total 21 columns):\n",
            " #   Column                     Non-Null Count  Dtype  \n",
            "---  ------                     --------------  -----  \n",
            " 0   home_team                  871 non-null    object \n",
            " 1   away_team                  871 non-null    object \n",
            " 2   home_score                 871 non-null    int64  \n",
            " 3   away_score                 871 non-null    int64  \n",
            " 4   neutral_x                  871 non-null    bool   \n",
            " 5   rank_x                     871 non-null    int64  \n",
            " 6   previous_points_x          871 non-null    int64  \n",
            " 7   rank_change_x              871 non-null    int64  \n",
            " 8   neutral_y                  871 non-null    bool   \n",
            " 9   rank_y                     871 non-null    int64  \n",
            " 10  total_points_y             871 non-null    float64\n",
            " 11  previous_points_y          871 non-null    int64  \n",
            " 12  rank_change_y              871 non-null    int64  \n",
            " 13  cur_year_avg_y             871 non-null    float64\n",
            " 14  cur_year_avg_weighted_y    871 non-null    float64\n",
            " 15  last_year_avg_y            871 non-null    float64\n",
            " 16  last_year_avg_weighted_y   871 non-null    float64\n",
            " 17  two_year_ago_avg_y         871 non-null    float64\n",
            " 18  two_year_ago_weighted_y    871 non-null    float64\n",
            " 19  three_year_ago_avg_y       871 non-null    float64\n",
            " 20  three_year_ago_weighted_y  871 non-null    float64\n",
            "dtypes: bool(2), float64(9), int64(8), object(2)\n",
            "memory usage: 137.8+ KB\n"
          ],
          "name": "stdout"
        }
      ]
    },
    {
      "cell_type": "code",
      "metadata": {
        "colab": {
          "base_uri": "https://localhost:8080/"
        },
        "id": "aByWrUE-G63E",
        "outputId": "561a4f80-7bc8-4bfb-b018-ff7fefe28edf"
      },
      "source": [
        "final.columns"
      ],
      "execution_count": 127,
      "outputs": [
        {
          "output_type": "execute_result",
          "data": {
            "text/plain": [
              "Index(['home_team', 'away_team', 'home_score', 'away_score', 'neutral_x',\n",
              "       'rank_x', 'previous_points_x', 'rank_change_x', 'neutral_y', 'rank_y',\n",
              "       'total_points_y', 'previous_points_y', 'rank_change_y',\n",
              "       'cur_year_avg_y', 'cur_year_avg_weighted_y', 'last_year_avg_y',\n",
              "       'last_year_avg_weighted_y', 'two_year_ago_avg_y',\n",
              "       'two_year_ago_weighted_y', 'three_year_ago_avg_y',\n",
              "       'three_year_ago_weighted_y'],\n",
              "      dtype='object')"
            ]
          },
          "metadata": {
            "tags": []
          },
          "execution_count": 127
        }
      ]
    },
    {
      "cell_type": "markdown",
      "metadata": {
        "id": "yUlIteNE3dR9"
      },
      "source": [
        "#7.0 Multicollinearity"
      ]
    },
    {
      "cell_type": "code",
      "metadata": {
        "id": "VQbd3MXw3csg",
        "colab": {
          "base_uri": "https://localhost:8080/",
          "height": 658
        },
        "outputId": "59e33345-9200-426c-d23a-f0d40e829ae3"
      },
      "source": [
        "# Let's display the correlations between the variables\n",
        "correlations = final.corr()\n",
        "\n",
        "correlations"
      ],
      "execution_count": 128,
      "outputs": [
        {
          "output_type": "execute_result",
          "data": {
            "text/html": [
              "<div>\n",
              "<style scoped>\n",
              "    .dataframe tbody tr th:only-of-type {\n",
              "        vertical-align: middle;\n",
              "    }\n",
              "\n",
              "    .dataframe tbody tr th {\n",
              "        vertical-align: top;\n",
              "    }\n",
              "\n",
              "    .dataframe thead th {\n",
              "        text-align: right;\n",
              "    }\n",
              "</style>\n",
              "<table border=\"1\" class=\"dataframe\">\n",
              "  <thead>\n",
              "    <tr style=\"text-align: right;\">\n",
              "      <th></th>\n",
              "      <th>home_score</th>\n",
              "      <th>away_score</th>\n",
              "      <th>neutral_x</th>\n",
              "      <th>rank_x</th>\n",
              "      <th>previous_points_x</th>\n",
              "      <th>rank_change_x</th>\n",
              "      <th>neutral_y</th>\n",
              "      <th>rank_y</th>\n",
              "      <th>total_points_y</th>\n",
              "      <th>previous_points_y</th>\n",
              "      <th>rank_change_y</th>\n",
              "      <th>cur_year_avg_y</th>\n",
              "      <th>cur_year_avg_weighted_y</th>\n",
              "      <th>last_year_avg_y</th>\n",
              "      <th>last_year_avg_weighted_y</th>\n",
              "      <th>two_year_ago_avg_y</th>\n",
              "      <th>two_year_ago_weighted_y</th>\n",
              "      <th>three_year_ago_avg_y</th>\n",
              "      <th>three_year_ago_weighted_y</th>\n",
              "    </tr>\n",
              "  </thead>\n",
              "  <tbody>\n",
              "    <tr>\n",
              "      <th>home_score</th>\n",
              "      <td>1.000000</td>\n",
              "      <td>-0.132413</td>\n",
              "      <td>0.001156</td>\n",
              "      <td>-0.043381</td>\n",
              "      <td>0.012369</td>\n",
              "      <td>0.108316</td>\n",
              "      <td>0.001156</td>\n",
              "      <td>0.309322</td>\n",
              "      <td>-0.029408</td>\n",
              "      <td>-0.200664</td>\n",
              "      <td>0.021685</td>\n",
              "      <td>-0.025680</td>\n",
              "      <td>-0.025680</td>\n",
              "      <td>-0.035794</td>\n",
              "      <td>-0.035795</td>\n",
              "      <td>-0.025013</td>\n",
              "      <td>-0.025012</td>\n",
              "      <td>-0.026707</td>\n",
              "      <td>-0.026710</td>\n",
              "    </tr>\n",
              "    <tr>\n",
              "      <th>away_score</th>\n",
              "      <td>-0.132413</td>\n",
              "      <td>1.000000</td>\n",
              "      <td>0.088183</td>\n",
              "      <td>0.143060</td>\n",
              "      <td>-0.106401</td>\n",
              "      <td>-0.041702</td>\n",
              "      <td>0.088183</td>\n",
              "      <td>-0.151524</td>\n",
              "      <td>-0.015489</td>\n",
              "      <td>0.090554</td>\n",
              "      <td>0.013887</td>\n",
              "      <td>-0.016873</td>\n",
              "      <td>-0.016873</td>\n",
              "      <td>-0.001539</td>\n",
              "      <td>-0.001539</td>\n",
              "      <td>-0.022080</td>\n",
              "      <td>-0.022081</td>\n",
              "      <td>-0.026469</td>\n",
              "      <td>-0.026465</td>\n",
              "    </tr>\n",
              "    <tr>\n",
              "      <th>neutral_x</th>\n",
              "      <td>0.001156</td>\n",
              "      <td>0.088183</td>\n",
              "      <td>1.000000</td>\n",
              "      <td>0.059212</td>\n",
              "      <td>0.026054</td>\n",
              "      <td>0.013997</td>\n",
              "      <td>1.000000</td>\n",
              "      <td>0.072782</td>\n",
              "      <td>0.025457</td>\n",
              "      <td>0.001105</td>\n",
              "      <td>0.022563</td>\n",
              "      <td>0.027046</td>\n",
              "      <td>0.027046</td>\n",
              "      <td>0.030088</td>\n",
              "      <td>0.030088</td>\n",
              "      <td>0.017294</td>\n",
              "      <td>0.017294</td>\n",
              "      <td>0.007812</td>\n",
              "      <td>0.007813</td>\n",
              "    </tr>\n",
              "    <tr>\n",
              "      <th>rank_x</th>\n",
              "      <td>-0.043381</td>\n",
              "      <td>0.143060</td>\n",
              "      <td>0.059212</td>\n",
              "      <td>1.000000</td>\n",
              "      <td>-0.618886</td>\n",
              "      <td>-0.027498</td>\n",
              "      <td>0.059212</td>\n",
              "      <td>0.534618</td>\n",
              "      <td>0.028150</td>\n",
              "      <td>-0.321839</td>\n",
              "      <td>0.033777</td>\n",
              "      <td>0.021526</td>\n",
              "      <td>0.021526</td>\n",
              "      <td>0.041838</td>\n",
              "      <td>0.041838</td>\n",
              "      <td>0.014820</td>\n",
              "      <td>0.014819</td>\n",
              "      <td>0.036602</td>\n",
              "      <td>0.036600</td>\n",
              "    </tr>\n",
              "    <tr>\n",
              "      <th>previous_points_x</th>\n",
              "      <td>0.012369</td>\n",
              "      <td>-0.106401</td>\n",
              "      <td>0.026054</td>\n",
              "      <td>-0.618886</td>\n",
              "      <td>1.000000</td>\n",
              "      <td>-0.039259</td>\n",
              "      <td>0.026054</td>\n",
              "      <td>-0.286963</td>\n",
              "      <td>0.100523</td>\n",
              "      <td>0.664868</td>\n",
              "      <td>-0.051667</td>\n",
              "      <td>0.093517</td>\n",
              "      <td>0.093517</td>\n",
              "      <td>0.094226</td>\n",
              "      <td>0.094226</td>\n",
              "      <td>0.110809</td>\n",
              "      <td>0.110810</td>\n",
              "      <td>0.092559</td>\n",
              "      <td>0.092562</td>\n",
              "    </tr>\n",
              "    <tr>\n",
              "      <th>rank_change_x</th>\n",
              "      <td>0.108316</td>\n",
              "      <td>-0.041702</td>\n",
              "      <td>0.013997</td>\n",
              "      <td>-0.027498</td>\n",
              "      <td>-0.039259</td>\n",
              "      <td>1.000000</td>\n",
              "      <td>0.013997</td>\n",
              "      <td>0.026650</td>\n",
              "      <td>-0.028294</td>\n",
              "      <td>-0.015240</td>\n",
              "      <td>0.063618</td>\n",
              "      <td>-0.032172</td>\n",
              "      <td>-0.032172</td>\n",
              "      <td>-0.014270</td>\n",
              "      <td>-0.014270</td>\n",
              "      <td>-0.037924</td>\n",
              "      <td>-0.037926</td>\n",
              "      <td>-0.016404</td>\n",
              "      <td>-0.016405</td>\n",
              "    </tr>\n",
              "    <tr>\n",
              "      <th>neutral_y</th>\n",
              "      <td>0.001156</td>\n",
              "      <td>0.088183</td>\n",
              "      <td>1.000000</td>\n",
              "      <td>0.059212</td>\n",
              "      <td>0.026054</td>\n",
              "      <td>0.013997</td>\n",
              "      <td>1.000000</td>\n",
              "      <td>0.072782</td>\n",
              "      <td>0.025457</td>\n",
              "      <td>0.001105</td>\n",
              "      <td>0.022563</td>\n",
              "      <td>0.027046</td>\n",
              "      <td>0.027046</td>\n",
              "      <td>0.030088</td>\n",
              "      <td>0.030088</td>\n",
              "      <td>0.017294</td>\n",
              "      <td>0.017294</td>\n",
              "      <td>0.007812</td>\n",
              "      <td>0.007813</td>\n",
              "    </tr>\n",
              "    <tr>\n",
              "      <th>rank_y</th>\n",
              "      <td>0.309322</td>\n",
              "      <td>-0.151524</td>\n",
              "      <td>0.072782</td>\n",
              "      <td>0.534618</td>\n",
              "      <td>-0.286963</td>\n",
              "      <td>0.026650</td>\n",
              "      <td>0.072782</td>\n",
              "      <td>1.000000</td>\n",
              "      <td>-0.025269</td>\n",
              "      <td>-0.609396</td>\n",
              "      <td>-0.026279</td>\n",
              "      <td>-0.033155</td>\n",
              "      <td>-0.033155</td>\n",
              "      <td>-0.014357</td>\n",
              "      <td>-0.014358</td>\n",
              "      <td>-0.025334</td>\n",
              "      <td>-0.025333</td>\n",
              "      <td>-0.001700</td>\n",
              "      <td>-0.001704</td>\n",
              "    </tr>\n",
              "    <tr>\n",
              "      <th>total_points_y</th>\n",
              "      <td>-0.029408</td>\n",
              "      <td>-0.015489</td>\n",
              "      <td>0.025457</td>\n",
              "      <td>0.028150</td>\n",
              "      <td>0.100523</td>\n",
              "      <td>-0.028294</td>\n",
              "      <td>0.025457</td>\n",
              "      <td>-0.025269</td>\n",
              "      <td>1.000000</td>\n",
              "      <td>0.120206</td>\n",
              "      <td>0.023172</td>\n",
              "      <td>0.977227</td>\n",
              "      <td>0.977227</td>\n",
              "      <td>0.945914</td>\n",
              "      <td>0.945915</td>\n",
              "      <td>0.943473</td>\n",
              "      <td>0.943472</td>\n",
              "      <td>0.914355</td>\n",
              "      <td>0.914358</td>\n",
              "    </tr>\n",
              "    <tr>\n",
              "      <th>previous_points_y</th>\n",
              "      <td>-0.200664</td>\n",
              "      <td>0.090554</td>\n",
              "      <td>0.001105</td>\n",
              "      <td>-0.321839</td>\n",
              "      <td>0.664868</td>\n",
              "      <td>-0.015240</td>\n",
              "      <td>0.001105</td>\n",
              "      <td>-0.609396</td>\n",
              "      <td>0.120206</td>\n",
              "      <td>1.000000</td>\n",
              "      <td>-0.054647</td>\n",
              "      <td>0.126400</td>\n",
              "      <td>0.126400</td>\n",
              "      <td>0.102953</td>\n",
              "      <td>0.102953</td>\n",
              "      <td>0.112483</td>\n",
              "      <td>0.112482</td>\n",
              "      <td>0.093029</td>\n",
              "      <td>0.093031</td>\n",
              "    </tr>\n",
              "    <tr>\n",
              "      <th>rank_change_y</th>\n",
              "      <td>0.021685</td>\n",
              "      <td>0.013887</td>\n",
              "      <td>0.022563</td>\n",
              "      <td>0.033777</td>\n",
              "      <td>-0.051667</td>\n",
              "      <td>0.063618</td>\n",
              "      <td>0.022563</td>\n",
              "      <td>-0.026279</td>\n",
              "      <td>0.023172</td>\n",
              "      <td>-0.054647</td>\n",
              "      <td>1.000000</td>\n",
              "      <td>0.026487</td>\n",
              "      <td>0.026487</td>\n",
              "      <td>0.028716</td>\n",
              "      <td>0.028715</td>\n",
              "      <td>0.001424</td>\n",
              "      <td>0.001424</td>\n",
              "      <td>0.017161</td>\n",
              "      <td>0.017160</td>\n",
              "    </tr>\n",
              "    <tr>\n",
              "      <th>cur_year_avg_y</th>\n",
              "      <td>-0.025680</td>\n",
              "      <td>-0.016873</td>\n",
              "      <td>0.027046</td>\n",
              "      <td>0.021526</td>\n",
              "      <td>0.093517</td>\n",
              "      <td>-0.032172</td>\n",
              "      <td>0.027046</td>\n",
              "      <td>-0.033155</td>\n",
              "      <td>0.977227</td>\n",
              "      <td>0.126400</td>\n",
              "      <td>0.026487</td>\n",
              "      <td>1.000000</td>\n",
              "      <td>1.000000</td>\n",
              "      <td>0.871346</td>\n",
              "      <td>0.871346</td>\n",
              "      <td>0.879520</td>\n",
              "      <td>0.879520</td>\n",
              "      <td>0.865958</td>\n",
              "      <td>0.865962</td>\n",
              "    </tr>\n",
              "    <tr>\n",
              "      <th>cur_year_avg_weighted_y</th>\n",
              "      <td>-0.025680</td>\n",
              "      <td>-0.016873</td>\n",
              "      <td>0.027046</td>\n",
              "      <td>0.021526</td>\n",
              "      <td>0.093517</td>\n",
              "      <td>-0.032172</td>\n",
              "      <td>0.027046</td>\n",
              "      <td>-0.033155</td>\n",
              "      <td>0.977227</td>\n",
              "      <td>0.126400</td>\n",
              "      <td>0.026487</td>\n",
              "      <td>1.000000</td>\n",
              "      <td>1.000000</td>\n",
              "      <td>0.871346</td>\n",
              "      <td>0.871346</td>\n",
              "      <td>0.879520</td>\n",
              "      <td>0.879520</td>\n",
              "      <td>0.865958</td>\n",
              "      <td>0.865962</td>\n",
              "    </tr>\n",
              "    <tr>\n",
              "      <th>last_year_avg_y</th>\n",
              "      <td>-0.035794</td>\n",
              "      <td>-0.001539</td>\n",
              "      <td>0.030088</td>\n",
              "      <td>0.041838</td>\n",
              "      <td>0.094226</td>\n",
              "      <td>-0.014270</td>\n",
              "      <td>0.030088</td>\n",
              "      <td>-0.014357</td>\n",
              "      <td>0.945914</td>\n",
              "      <td>0.102953</td>\n",
              "      <td>0.028716</td>\n",
              "      <td>0.871346</td>\n",
              "      <td>0.871346</td>\n",
              "      <td>1.000000</td>\n",
              "      <td>1.000000</td>\n",
              "      <td>0.904774</td>\n",
              "      <td>0.904770</td>\n",
              "      <td>0.849631</td>\n",
              "      <td>0.849633</td>\n",
              "    </tr>\n",
              "    <tr>\n",
              "      <th>last_year_avg_weighted_y</th>\n",
              "      <td>-0.035795</td>\n",
              "      <td>-0.001539</td>\n",
              "      <td>0.030088</td>\n",
              "      <td>0.041838</td>\n",
              "      <td>0.094226</td>\n",
              "      <td>-0.014270</td>\n",
              "      <td>0.030088</td>\n",
              "      <td>-0.014358</td>\n",
              "      <td>0.945915</td>\n",
              "      <td>0.102953</td>\n",
              "      <td>0.028715</td>\n",
              "      <td>0.871346</td>\n",
              "      <td>0.871346</td>\n",
              "      <td>1.000000</td>\n",
              "      <td>1.000000</td>\n",
              "      <td>0.904776</td>\n",
              "      <td>0.904773</td>\n",
              "      <td>0.849633</td>\n",
              "      <td>0.849635</td>\n",
              "    </tr>\n",
              "    <tr>\n",
              "      <th>two_year_ago_avg_y</th>\n",
              "      <td>-0.025013</td>\n",
              "      <td>-0.022080</td>\n",
              "      <td>0.017294</td>\n",
              "      <td>0.014820</td>\n",
              "      <td>0.110809</td>\n",
              "      <td>-0.037924</td>\n",
              "      <td>0.017294</td>\n",
              "      <td>-0.025334</td>\n",
              "      <td>0.943473</td>\n",
              "      <td>0.112483</td>\n",
              "      <td>0.001424</td>\n",
              "      <td>0.879520</td>\n",
              "      <td>0.879520</td>\n",
              "      <td>0.904774</td>\n",
              "      <td>0.904776</td>\n",
              "      <td>1.000000</td>\n",
              "      <td>1.000000</td>\n",
              "      <td>0.872110</td>\n",
              "      <td>0.872110</td>\n",
              "    </tr>\n",
              "    <tr>\n",
              "      <th>two_year_ago_weighted_y</th>\n",
              "      <td>-0.025012</td>\n",
              "      <td>-0.022081</td>\n",
              "      <td>0.017294</td>\n",
              "      <td>0.014819</td>\n",
              "      <td>0.110810</td>\n",
              "      <td>-0.037926</td>\n",
              "      <td>0.017294</td>\n",
              "      <td>-0.025333</td>\n",
              "      <td>0.943472</td>\n",
              "      <td>0.112482</td>\n",
              "      <td>0.001424</td>\n",
              "      <td>0.879520</td>\n",
              "      <td>0.879520</td>\n",
              "      <td>0.904770</td>\n",
              "      <td>0.904773</td>\n",
              "      <td>1.000000</td>\n",
              "      <td>1.000000</td>\n",
              "      <td>0.872107</td>\n",
              "      <td>0.872108</td>\n",
              "    </tr>\n",
              "    <tr>\n",
              "      <th>three_year_ago_avg_y</th>\n",
              "      <td>-0.026707</td>\n",
              "      <td>-0.026469</td>\n",
              "      <td>0.007812</td>\n",
              "      <td>0.036602</td>\n",
              "      <td>0.092559</td>\n",
              "      <td>-0.016404</td>\n",
              "      <td>0.007812</td>\n",
              "      <td>-0.001700</td>\n",
              "      <td>0.914355</td>\n",
              "      <td>0.093029</td>\n",
              "      <td>0.017161</td>\n",
              "      <td>0.865958</td>\n",
              "      <td>0.865958</td>\n",
              "      <td>0.849631</td>\n",
              "      <td>0.849633</td>\n",
              "      <td>0.872110</td>\n",
              "      <td>0.872107</td>\n",
              "      <td>1.000000</td>\n",
              "      <td>1.000000</td>\n",
              "    </tr>\n",
              "    <tr>\n",
              "      <th>three_year_ago_weighted_y</th>\n",
              "      <td>-0.026710</td>\n",
              "      <td>-0.026465</td>\n",
              "      <td>0.007813</td>\n",
              "      <td>0.036600</td>\n",
              "      <td>0.092562</td>\n",
              "      <td>-0.016405</td>\n",
              "      <td>0.007813</td>\n",
              "      <td>-0.001704</td>\n",
              "      <td>0.914358</td>\n",
              "      <td>0.093031</td>\n",
              "      <td>0.017160</td>\n",
              "      <td>0.865962</td>\n",
              "      <td>0.865962</td>\n",
              "      <td>0.849633</td>\n",
              "      <td>0.849635</td>\n",
              "      <td>0.872110</td>\n",
              "      <td>0.872108</td>\n",
              "      <td>1.000000</td>\n",
              "      <td>1.000000</td>\n",
              "    </tr>\n",
              "  </tbody>\n",
              "</table>\n",
              "</div>"
            ],
            "text/plain": [
              "                           home_score  ...  three_year_ago_weighted_y\n",
              "home_score                   1.000000  ...                  -0.026710\n",
              "away_score                  -0.132413  ...                  -0.026465\n",
              "neutral_x                    0.001156  ...                   0.007813\n",
              "rank_x                      -0.043381  ...                   0.036600\n",
              "previous_points_x            0.012369  ...                   0.092562\n",
              "rank_change_x                0.108316  ...                  -0.016405\n",
              "neutral_y                    0.001156  ...                   0.007813\n",
              "rank_y                       0.309322  ...                  -0.001704\n",
              "total_points_y              -0.029408  ...                   0.914358\n",
              "previous_points_y           -0.200664  ...                   0.093031\n",
              "rank_change_y                0.021685  ...                   0.017160\n",
              "cur_year_avg_y              -0.025680  ...                   0.865962\n",
              "cur_year_avg_weighted_y     -0.025680  ...                   0.865962\n",
              "last_year_avg_y             -0.035794  ...                   0.849633\n",
              "last_year_avg_weighted_y    -0.035795  ...                   0.849635\n",
              "two_year_ago_avg_y          -0.025013  ...                   0.872110\n",
              "two_year_ago_weighted_y     -0.025012  ...                   0.872108\n",
              "three_year_ago_avg_y        -0.026707  ...                   1.000000\n",
              "three_year_ago_weighted_y   -0.026710  ...                   1.000000\n",
              "\n",
              "[19 rows x 19 columns]"
            ]
          },
          "metadata": {
            "tags": []
          },
          "execution_count": 128
        }
      ]
    },
    {
      "cell_type": "code",
      "metadata": {
        "id": "_wuLLPA6R-NV"
      },
      "source": [
        "import seaborn as sb"
      ],
      "execution_count": 81,
      "outputs": []
    },
    {
      "cell_type": "code",
      "metadata": {
        "id": "JYGe-BaONF4f",
        "colab": {
          "base_uri": "https://localhost:8080/",
          "height": 416
        },
        "outputId": "cc640432-8db5-460b-9317-3e1b2214de4a"
      },
      "source": [
        "sb.heatmap(final.corr()) "
      ],
      "execution_count": 129,
      "outputs": [
        {
          "output_type": "execute_result",
          "data": {
            "text/plain": [
              "<matplotlib.axes._subplots.AxesSubplot at 0x7fba594462d0>"
            ]
          },
          "metadata": {
            "tags": []
          },
          "execution_count": 129
        },
        {
          "output_type": "display_data",
          "data": {
            "image/png": "[encoded data removed]",
            "text/plain": [
              "<Figure size 432x288 with 2 Axes>"
            ]
          },
          "metadata": {
            "tags": [],
            "needs_background": "light"
          }
        }
      ]
    },
    {
      "cell_type": "code",
      "metadata": {
        "id": "enwb4k9PHr1O"
      },
      "source": [
        "# Importing label encoder\n",
        "# \n",
        "from sklearn.preprocessing import LabelEncoder\n",
        "categorical_features = ['cut', 'color', 'clarity']\n",
        "le = LabelEncoder()\n",
        "\n",
        "# Converting the variables to numerical\n",
        "#\n",
        "for i in range(3):\n",
        "    new = le.fit_transform(diamonds[categorical_features[i]])\n",
        "    diamonds[categorical_features[i]] = new\n",
        "diamonds.head()"
      ],
      "execution_count": null,
      "outputs": []
    },
    {
      "cell_type": "code",
      "metadata": {
        "id": "TvHbKLuvEaAP"
      },
      "source": [
        "final.drop([\"neutral_x\",\"rank_change_x\",\"neutral_y\",\"total_points_y\",\"cur_year_avg_y\",\"cur_year_avg_weighted_y\",\"last_year_avg_y\",\"last_year_avg_weighted_y\",\"two_year_ago_avg_y\",\"two_year_ago_weighted_y\",\"three_year_ago_avg_y\",\"three_year_ago_weighted_y\"],axis=1,inplace=True)"
      ],
      "execution_count": 131,
      "outputs": []
    },
    {
      "cell_type": "code",
      "metadata": {
        "id": "55JHwybsFvRk"
      },
      "source": [
        "final.drop([\"rank_x\",\"rank_y\",\"previous_points_y\",\"rank_change_y\"],axis=1,inplace=True)"
      ],
      "execution_count": 132,
      "outputs": []
    },
    {
      "cell_type": "code",
      "metadata": {
        "colab": {
          "base_uri": "https://localhost:8080/",
          "height": 204
        },
        "id": "fno_WdSzGUlF",
        "outputId": "b932080d-721a-4aa8-a2b4-82cf1323d2ea"
      },
      "source": [
        "final.head(5)"
      ],
      "execution_count": 133,
      "outputs": [
        {
          "output_type": "execute_result",
          "data": {
            "text/html": [
              "<div>\n",
              "<style scoped>\n",
              "    .dataframe tbody tr th:only-of-type {\n",
              "        vertical-align: middle;\n",
              "    }\n",
              "\n",
              "    .dataframe tbody tr th {\n",
              "        vertical-align: top;\n",
              "    }\n",
              "\n",
              "    .dataframe thead th {\n",
              "        text-align: right;\n",
              "    }\n",
              "</style>\n",
              "<table border=\"1\" class=\"dataframe\">\n",
              "  <thead>\n",
              "    <tr style=\"text-align: right;\">\n",
              "      <th></th>\n",
              "      <th>home_team</th>\n",
              "      <th>away_team</th>\n",
              "      <th>home_score</th>\n",
              "      <th>away_score</th>\n",
              "      <th>previous_points_x</th>\n",
              "    </tr>\n",
              "  </thead>\n",
              "  <tbody>\n",
              "    <tr>\n",
              "      <th>0</th>\n",
              "      <td>Bolivia</td>\n",
              "      <td>Uruguay</td>\n",
              "      <td>3</td>\n",
              "      <td>1</td>\n",
              "      <td>13</td>\n",
              "    </tr>\n",
              "    <tr>\n",
              "      <th>1</th>\n",
              "      <td>Brazil</td>\n",
              "      <td>Mexico</td>\n",
              "      <td>1</td>\n",
              "      <td>1</td>\n",
              "      <td>55</td>\n",
              "    </tr>\n",
              "    <tr>\n",
              "      <th>2</th>\n",
              "      <td>Ecuador</td>\n",
              "      <td>Venezuela</td>\n",
              "      <td>5</td>\n",
              "      <td>0</td>\n",
              "      <td>23</td>\n",
              "    </tr>\n",
              "    <tr>\n",
              "      <th>3</th>\n",
              "      <td>Guinea</td>\n",
              "      <td>Sierra Leone</td>\n",
              "      <td>1</td>\n",
              "      <td>0</td>\n",
              "      <td>23</td>\n",
              "    </tr>\n",
              "    <tr>\n",
              "      <th>4</th>\n",
              "      <td>Paraguay</td>\n",
              "      <td>Argentina</td>\n",
              "      <td>1</td>\n",
              "      <td>3</td>\n",
              "      <td>22</td>\n",
              "    </tr>\n",
              "  </tbody>\n",
              "</table>\n",
              "</div>"
            ],
            "text/plain": [
              "  home_team     away_team  home_score  away_score  previous_points_x\n",
              "0   Bolivia       Uruguay           3           1                 13\n",
              "1    Brazil        Mexico           1           1                 55\n",
              "2   Ecuador     Venezuela           5           0                 23\n",
              "3    Guinea  Sierra Leone           1           0                 23\n",
              "4  Paraguay     Argentina           1           3                 22"
            ]
          },
          "metadata": {
            "tags": []
          },
          "execution_count": 133
        }
      ]
    },
    {
      "cell_type": "code",
      "metadata": {
        "colab": {
          "base_uri": "https://localhost:8080/",
          "height": 204
        },
        "id": "bXksRXmnH4VD",
        "outputId": "cf73ea10-06dc-4664-ea0b-3e9f6d7d4cfc"
      },
      "source": [
        "# Importing label encoder\n",
        "# \n",
        "from sklearn.preprocessing import LabelEncoder\n",
        "categorical_features = ['home_team', 'away_team']\n",
        "le = LabelEncoder()\n",
        "\n",
        "# Converting the variables to numerical\n",
        "#\n",
        "for i in range(2):\n",
        "    new = le.fit_transform(final[categorical_features[i]])\n",
        "    final[categorical_features[i]] = new\n",
        "final.head()"
      ],
      "execution_count": 135,
      "outputs": [
        {
          "output_type": "execute_result",
          "data": {
            "text/html": [
              "<div>\n",
              "<style scoped>\n",
              "    .dataframe tbody tr th:only-of-type {\n",
              "        vertical-align: middle;\n",
              "    }\n",
              "\n",
              "    .dataframe tbody tr th {\n",
              "        vertical-align: top;\n",
              "    }\n",
              "\n",
              "    .dataframe thead th {\n",
              "        text-align: right;\n",
              "    }\n",
              "</style>\n",
              "<table border=\"1\" class=\"dataframe\">\n",
              "  <thead>\n",
              "    <tr style=\"text-align: right;\">\n",
              "      <th></th>\n",
              "      <th>home_team</th>\n",
              "      <th>away_team</th>\n",
              "      <th>home_score</th>\n",
              "      <th>away_score</th>\n",
              "      <th>previous_points_x</th>\n",
              "    </tr>\n",
              "  </thead>\n",
              "  <tbody>\n",
              "    <tr>\n",
              "      <th>0</th>\n",
              "      <td>20</td>\n",
              "      <td>150</td>\n",
              "      <td>3</td>\n",
              "      <td>1</td>\n",
              "      <td>13</td>\n",
              "    </tr>\n",
              "    <tr>\n",
              "      <th>1</th>\n",
              "      <td>23</td>\n",
              "      <td>90</td>\n",
              "      <td>1</td>\n",
              "      <td>1</td>\n",
              "      <td>55</td>\n",
              "    </tr>\n",
              "    <tr>\n",
              "      <th>2</th>\n",
              "      <td>40</td>\n",
              "      <td>153</td>\n",
              "      <td>5</td>\n",
              "      <td>0</td>\n",
              "      <td>23</td>\n",
              "    </tr>\n",
              "    <tr>\n",
              "      <th>3</th>\n",
              "      <td>59</td>\n",
              "      <td>125</td>\n",
              "      <td>1</td>\n",
              "      <td>0</td>\n",
              "      <td>23</td>\n",
              "    </tr>\n",
              "    <tr>\n",
              "      <th>4</th>\n",
              "      <td>111</td>\n",
              "      <td>7</td>\n",
              "      <td>1</td>\n",
              "      <td>3</td>\n",
              "      <td>22</td>\n",
              "    </tr>\n",
              "  </tbody>\n",
              "</table>\n",
              "</div>"
            ],
            "text/plain": [
              "   home_team  away_team  home_score  away_score  previous_points_x\n",
              "0         20        150           3           1                 13\n",
              "1         23         90           1           1                 55\n",
              "2         40        153           5           0                 23\n",
              "3         59        125           1           0                 23\n",
              "4        111          7           1           3                 22"
            ]
          },
          "metadata": {
            "tags": []
          },
          "execution_count": 135
        }
      ]
    },
    {
      "cell_type": "markdown",
      "metadata": {
        "id": "2qx1R9IBP31I"
      },
      "source": [
        "#8.0 Polynomial Regression"
      ]
    },
    {
      "cell_type": "code",
      "metadata": {
        "id": "RAYAvBKPSmyB"
      },
      "source": [
        "#importing libraries\n",
        "import matplotlib.pyplot as plt\n",
        "\n",
        "from sklearn.preprocessing import PolynomialFeatures\n",
        "\n",
        "from sklearn.model_selection import train_test_split\n",
        "\n",
        "# Import LinearRegression method from sklearn linear_model library\n",
        "from sklearn.linear_model import LinearRegression\n"
      ],
      "execution_count": 159,
      "outputs": []
    },
    {
      "cell_type": "code",
      "metadata": {
        "id": "0XOzY0mVP1UU",
        "colab": {
          "base_uri": "https://localhost:8080/"
        },
        "outputId": "b5f55679-dcac-4822-923b-3707ae3a20e4"
      },
      "source": [
        "#Get the 2 and the last column from the dataset \n",
        "X = final.iloc[:, 1:2].values\n",
        "y = final.iloc[:, 3].values\n",
        "print(X)\n",
        "print(y)"
      ],
      "execution_count": 202,
      "outputs": [
        {
          "output_type": "stream",
          "text": [
            "[[150]\n",
            " [ 90]\n",
            " [153]\n",
            " [125]\n",
            " [  7]\n",
            " [ 32]\n",
            " [ 35]\n",
            " [148]\n",
            " [ 57]\n",
            " [ 10]\n",
            " [123]\n",
            " [ 29]\n",
            " [ 23]\n",
            " [152]\n",
            " [ 26]\n",
            " [  2]\n",
            " [ 70]\n",
            " [157]\n",
            " [ 43]\n",
            " [ 57]\n",
            " [ 82]\n",
            " [ 55]\n",
            " [ 19]\n",
            " [118]\n",
            " [109]\n",
            " [116]\n",
            " [122]\n",
            " [110]\n",
            " [ 36]\n",
            " [ 66]\n",
            " [128]\n",
            " [ 10]\n",
            " [ 14]\n",
            " [ 55]\n",
            " [136]\n",
            " [132]\n",
            " [ 54]\n",
            " [ 23]\n",
            " [ 22]\n",
            " [155]\n",
            " [150]\n",
            " [ 37]\n",
            " [134]\n",
            " [ 22]\n",
            " [ 59]\n",
            " [ 94]\n",
            " [149]\n",
            " [157]\n",
            " [134]\n",
            " [ 42]\n",
            " [ 49]\n",
            " [ 90]\n",
            " [ 20]\n",
            " [132]\n",
            " [150]\n",
            " [ 50]\n",
            " [153]\n",
            " [136]\n",
            " [ 40]\n",
            " [ 70]\n",
            " [ 19]\n",
            " [ 49]\n",
            " [109]\n",
            " [ 10]\n",
            " [103]\n",
            " [137]\n",
            " [ 82]\n",
            " [ 66]\n",
            " [ 55]\n",
            " [  8]\n",
            " [155]\n",
            " [  1]\n",
            " [ 29]\n",
            " [110]\n",
            " [121]\n",
            " [ 88]\n",
            " [117]\n",
            " [118]\n",
            " [144]\n",
            " [ 55]\n",
            " [109]\n",
            " [ 70]\n",
            " [117]\n",
            " [ 93]\n",
            " [ 32]\n",
            " [112]\n",
            " [103]\n",
            " [113]\n",
            " [101]\n",
            " [  7]\n",
            " [109]\n",
            " [137]\n",
            " [144]\n",
            " [ 51]\n",
            " [ 39]\n",
            " [ 52]\n",
            " [ 90]\n",
            " [157]\n",
            " [112]\n",
            " [ 52]\n",
            " [ 49]\n",
            " [  1]\n",
            " [ 40]\n",
            " [128]\n",
            " [ 78]\n",
            " [ 15]\n",
            " [117]\n",
            " [ 94]\n",
            " [ 51]\n",
            " [118]\n",
            " [ 54]\n",
            " [134]\n",
            " [ 80]\n",
            " [ 24]\n",
            " [138]\n",
            " [ 79]\n",
            " [ 57]\n",
            " [118]\n",
            " [103]\n",
            " [ 63]\n",
            " [ 39]\n",
            " [ 48]\n",
            " [ 97]\n",
            " [ 90]\n",
            " [137]\n",
            " [132]\n",
            " [ 16]\n",
            " [ 91]\n",
            " [ 70]\n",
            " [ 38]\n",
            " [ 20]\n",
            " [ 72]\n",
            " [ 78]\n",
            " [ 59]\n",
            " [ 44]\n",
            " [ 15]\n",
            " [ 23]\n",
            " [112]\n",
            " [ 90]\n",
            " [158]\n",
            " [ 98]\n",
            " [ 75]\n",
            " [118]\n",
            " [ 51]\n",
            " [117]\n",
            " [137]\n",
            " [ 97]\n",
            " [  8]\n",
            " [ 66]\n",
            " [ 44]\n",
            " [ 91]\n",
            " [ 20]\n",
            " [ 52]\n",
            " [ 82]\n",
            " [132]\n",
            " [  4]\n",
            " [ 70]\n",
            " [  1]\n",
            " [ 10]\n",
            " [ 23]\n",
            " [ 35]\n",
            " [ 11]\n",
            " [ 32]\n",
            " [109]\n",
            " [ 70]\n",
            " [122]\n",
            " [ 23]\n",
            " [142]\n",
            " [127]\n",
            " [  7]\n",
            " [116]\n",
            " [128]\n",
            " [109]\n",
            " [ 56]\n",
            " [ 59]\n",
            " [ 43]\n",
            " [ 32]\n",
            " [156]\n",
            " [126]\n",
            " [ 44]\n",
            " [ 30]\n",
            " [ 20]\n",
            " [133]\n",
            " [ 81]\n",
            " [132]\n",
            " [131]\n",
            " [ 14]\n",
            " [153]\n",
            " [ 12]\n",
            " [ 57]\n",
            " [132]\n",
            " [144]\n",
            " [  8]\n",
            " [122]\n",
            " [ 23]\n",
            " [ 45]\n",
            " [102]\n",
            " [ 48]\n",
            " [ 20]\n",
            " [ 54]\n",
            " [ 65]\n",
            " [ 39]\n",
            " [113]\n",
            " [148]\n",
            " [155]\n",
            " [ 83]\n",
            " [136]\n",
            " [137]\n",
            " [ 89]\n",
            " [150]\n",
            " [ 32]\n",
            " [ 90]\n",
            " [  7]\n",
            " [  4]\n",
            " [ 55]\n",
            " [ 72]\n",
            " [127]\n",
            " [ 35]\n",
            " [ 51]\n",
            " [ 45]\n",
            " [110]\n",
            " [ 66]\n",
            " [ 70]\n",
            " [ 78]\n",
            " [  9]\n",
            " [ 97]\n",
            " [107]\n",
            " [137]\n",
            " [ 52]\n",
            " [ 42]\n",
            " [  7]\n",
            " [151]\n",
            " [ 43]\n",
            " [151]\n",
            " [138]\n",
            " [148]\n",
            " [ 91]\n",
            " [115]\n",
            " [ 30]\n",
            " [ 93]\n",
            " [ 44]\n",
            " [  3]\n",
            " [ 29]\n",
            " [ 50]\n",
            " [135]\n",
            " [ 72]\n",
            " [ 90]\n",
            " [  9]\n",
            " [109]\n",
            " [ 90]\n",
            " [157]\n",
            " [ 93]\n",
            " [ 76]\n",
            " [103]\n",
            " [ 23]\n",
            " [ 39]\n",
            " [ 81]\n",
            " [117]\n",
            " [ 70]\n",
            " [136]\n",
            " [118]\n",
            " [ 73]\n",
            " [  1]\n",
            " [ 91]\n",
            " [ 45]\n",
            " [112]\n",
            " [ 19]\n",
            " [ 40]\n",
            " [113]\n",
            " [ 65]\n",
            " [  7]\n",
            " [131]\n",
            " [  1]\n",
            " [ 26]\n",
            " [127]\n",
            " [ 99]\n",
            " [ 20]\n",
            " [ 70]\n",
            " [131]\n",
            " [109]\n",
            " [118]\n",
            " [  7]\n",
            " [ 39]\n",
            " [ 15]\n",
            " [150]\n",
            " [ 35]\n",
            " [ 74]\n",
            " [ 81]\n",
            " [ 11]\n",
            " [ 23]\n",
            " [132]\n",
            " [136]\n",
            " [117]\n",
            " [ 22]\n",
            " [101]\n",
            " [143]\n",
            " [ 29]\n",
            " [ 54]\n",
            " [ 38]\n",
            " [ 27]\n",
            " [ 11]\n",
            " [131]\n",
            " [147]\n",
            " [103]\n",
            " [155]\n",
            " [ 89]\n",
            " [136]\n",
            " [112]\n",
            " [ 35]\n",
            " [ 66]\n",
            " [ 97]\n",
            " [116]\n",
            " [ 32]\n",
            " [ 91]\n",
            " [144]\n",
            " [  7]\n",
            " [ 88]\n",
            " [ 72]\n",
            " [122]\n",
            " [ 69]\n",
            " [ 36]\n",
            " [ 78]\n",
            " [148]\n",
            " [ 23]\n",
            " [ 43]\n",
            " [150]\n",
            " [134]\n",
            " [ 86]\n",
            " [ 77]\n",
            " [ 18]\n",
            " [ 87]\n",
            " [ 57]\n",
            " [ 24]\n",
            " [109]\n",
            " [  6]\n",
            " [ 58]\n",
            " [ 85]\n",
            " [134]\n",
            " [110]\n",
            " [ 59]\n",
            " [ 53]\n",
            " [ 24]\n",
            " [106]\n",
            " [ 86]\n",
            " [119]\n",
            " [106]\n",
            " [150]\n",
            " [  7]\n",
            " [ 51]\n",
            " [110]\n",
            " [130]\n",
            " [151]\n",
            " [ 48]\n",
            " [ 26]\n",
            " [ 66]\n",
            " [ 88]\n",
            " [122]\n",
            " [132]\n",
            " [ 76]\n",
            " [126]\n",
            " [ 36]\n",
            " [139]\n",
            " [ 37]\n",
            " [131]\n",
            " [ 78]\n",
            " [  0]\n",
            " [118]\n",
            " [ 43]\n",
            " [ 75]\n",
            " [ 17]\n",
            " [136]\n",
            " [138]\n",
            " [ 52]\n",
            " [ 76]\n",
            " [ 55]\n",
            " [ 15]\n",
            " [ 91]\n",
            " [ 23]\n",
            " [146]\n",
            " [ 32]\n",
            " [  8]\n",
            " [126]\n",
            " [ 22]\n",
            " [ 39]\n",
            " [150]\n",
            " [104]\n",
            " [ 77]\n",
            " [ 74]\n",
            " [148]\n",
            " [ 64]\n",
            " [ 29]\n",
            " [137]\n",
            " [103]\n",
            " [ 31]\n",
            " [128]\n",
            " [ 45]\n",
            " [ 54]\n",
            " [ 68]\n",
            " [110]\n",
            " [133]\n",
            " [140]\n",
            " [ 69]\n",
            " [  9]\n",
            " [ 87]\n",
            " [122]\n",
            " [ 68]\n",
            " [145]\n",
            " [ 30]\n",
            " [152]\n",
            " [ 62]\n",
            " [108]\n",
            " [ 34]\n",
            " [ 86]\n",
            " [133]\n",
            " [ 31]\n",
            " [ 67]\n",
            " [ 64]\n",
            " [ 87]\n",
            " [126]\n",
            " [ 77]\n",
            " [145]\n",
            " [156]\n",
            " [106]\n",
            " [ 42]\n",
            " [150]\n",
            " [ 76]\n",
            " [ 76]\n",
            " [138]\n",
            " [ 59]\n",
            " [ 12]\n",
            " [ 76]\n",
            " [ 42]\n",
            " [ 56]\n",
            " [103]\n",
            " [ 72]\n",
            " [143]\n",
            " [  9]\n",
            " [ 11]\n",
            " [122]\n",
            " [ 57]\n",
            " [144]\n",
            " [ 22]\n",
            " [ 45]\n",
            " [153]\n",
            " [ 20]\n",
            " [ 38]\n",
            " [107]\n",
            " [  7]\n",
            " [131]\n",
            " [ 71]\n",
            " [  8]\n",
            " [ 54]\n",
            " [118]\n",
            " [101]\n",
            " [127]\n",
            " [ 15]\n",
            " [102]\n",
            " [ 35]\n",
            " [141]\n",
            " [ 55]\n",
            " [137]\n",
            " [ 44]\n",
            " [ 29]\n",
            " [ 70]\n",
            " [ 43]\n",
            " [  4]\n",
            " [ 56]\n",
            " [150]\n",
            " [ 17]\n",
            " [ 39]\n",
            " [ 75]\n",
            " [ 76]\n",
            " [128]\n",
            " [136]\n",
            " [126]\n",
            " [ 69]\n",
            " [ 76]\n",
            " [ 65]\n",
            " [115]\n",
            " [  4]\n",
            " [ 74]\n",
            " [ 52]\n",
            " [ 60]\n",
            " [ 32]\n",
            " [126]\n",
            " [124]\n",
            " [112]\n",
            " [150]\n",
            " [ 57]\n",
            " [ 54]\n",
            " [102]\n",
            " [136]\n",
            " [ 62]\n",
            " [121]\n",
            " [ 97]\n",
            " [ 36]\n",
            " [156]\n",
            " [149]\n",
            " [147]\n",
            " [137]\n",
            " [144]\n",
            " [ 82]\n",
            " [ 24]\n",
            " [131]\n",
            " [ 22]\n",
            " [104]\n",
            " [107]\n",
            " [ 38]\n",
            " [ 78]\n",
            " [  1]\n",
            " [ 88]\n",
            " [ 64]\n",
            " [ 63]\n",
            " [153]\n",
            " [156]\n",
            " [ 68]\n",
            " [ 62]\n",
            " [104]\n",
            " [ 77]\n",
            " [ 29]\n",
            " [ 37]\n",
            " [ 30]\n",
            " [ 63]\n",
            " [107]\n",
            " [ 12]\n",
            " [ 30]\n",
            " [ 89]\n",
            " [ 22]\n",
            " [113]\n",
            " [ 39]\n",
            " [ 25]\n",
            " [ 70]\n",
            " [124]\n",
            " [ 36]\n",
            " [155]\n",
            " [110]\n",
            " [116]\n",
            " [ 19]\n",
            " [ 63]\n",
            " [ 55]\n",
            " [  4]\n",
            " [ 74]\n",
            " [132]\n",
            " [ 71]\n",
            " [ 27]\n",
            " [ 26]\n",
            " [ 91]\n",
            " [ 77]\n",
            " [145]\n",
            " [ 54]\n",
            " [ 24]\n",
            " [ 32]\n",
            " [128]\n",
            " [ 81]\n",
            " [  7]\n",
            " [ 59]\n",
            " [153]\n",
            " [144]\n",
            " [112]\n",
            " [ 38]\n",
            " [131]\n",
            " [ 52]\n",
            " [ 80]\n",
            " [ 97]\n",
            " [ 11]\n",
            " [157]\n",
            " [ 60]\n",
            " [151]\n",
            " [157]\n",
            " [ 47]\n",
            " [134]\n",
            " [ 76]\n",
            " [123]\n",
            " [114]\n",
            " [  5]\n",
            " [ 21]\n",
            " [ 87]\n",
            " [ 11]\n",
            " [ 18]\n",
            " [ 59]\n",
            " [ 49]\n",
            " [114]\n",
            " [118]\n",
            " [  7]\n",
            " [ 27]\n",
            " [  0]\n",
            " [ 19]\n",
            " [ 61]\n",
            " [ 41]\n",
            " [ 78]\n",
            " [ 42]\n",
            " [ 12]\n",
            " [ 30]\n",
            " [126]\n",
            " [ 67]\n",
            " [140]\n",
            " [121]\n",
            " [115]\n",
            " [ 30]\n",
            " [ 79]\n",
            " [ 17]\n",
            " [ 82]\n",
            " [ 88]\n",
            " [136]\n",
            " [128]\n",
            " [141]\n",
            " [ 60]\n",
            " [ 62]\n",
            " [ 63]\n",
            " [127]\n",
            " [ 56]\n",
            " [142]\n",
            " [ 74]\n",
            " [  7]\n",
            " [103]\n",
            " [ 40]\n",
            " [ 54]\n",
            " [ 65]\n",
            " [  9]\n",
            " [ 11]\n",
            " [  8]\n",
            " [150]\n",
            " [ 66]\n",
            " [  1]\n",
            " [ 39]\n",
            " [ 85]\n",
            " [ 72]\n",
            " [109]\n",
            " [ 51]\n",
            " [ 36]\n",
            " [102]\n",
            " [148]\n",
            " [ 29]\n",
            " [ 45]\n",
            " [ 23]\n",
            " [158]\n",
            " [ 97]\n",
            " [ 12]\n",
            " [ 59]\n",
            " [112]\n",
            " [ 92]\n",
            " [ 19]\n",
            " [105]\n",
            " [105]\n",
            " [ 61]\n",
            " [ 73]\n",
            " [ 98]\n",
            " [149]\n",
            " [102]\n",
            " [124]\n",
            " [ 78]\n",
            " [ 15]\n",
            " [ 68]\n",
            " [ 40]\n",
            " [ 36]\n",
            " [ 56]\n",
            " [ 66]\n",
            " [ 59]\n",
            " [ 43]\n",
            " [132]\n",
            " [ 48]\n",
            " [  7]\n",
            " [123]\n",
            " [156]\n",
            " [118]\n",
            " [ 26]\n",
            " [ 12]\n",
            " [126]\n",
            " [ 91]\n",
            " [ 88]\n",
            " [ 11]\n",
            " [ 51]\n",
            " [ 98]\n",
            " [ 21]\n",
            " [ 76]\n",
            " [ 23]\n",
            " [ 30]\n",
            " [ 70]\n",
            " [ 39]\n",
            " [103]\n",
            " [115]\n",
            " [ 95]\n",
            " [150]\n",
            " [ 79]\n",
            " [147]\n",
            " [ 63]\n",
            " [149]\n",
            " [107]\n",
            " [136]\n",
            " [ 85]\n",
            " [153]\n",
            " [131]\n",
            " [ 72]\n",
            " [ 91]\n",
            " [157]\n",
            " [ 36]\n",
            " [ 35]\n",
            " [ 90]\n",
            " [144]\n",
            " [ 70]\n",
            " [151]\n",
            " [ 53]\n",
            " [150]\n",
            " [137]\n",
            " [ 76]\n",
            " [100]\n",
            " [ 32]\n",
            " [ 33]\n",
            " [143]\n",
            " [ 12]\n",
            " [  4]\n",
            " [ 78]\n",
            " [ 55]\n",
            " [ 65]\n",
            " [ 49]\n",
            " [ 16]\n",
            " [ 81]\n",
            " [  7]\n",
            " [104]\n",
            " [ 15]\n",
            " [ 21]\n",
            " [ 60]\n",
            " [106]\n",
            " [132]\n",
            " [ 54]\n",
            " [102]\n",
            " [ 46]\n",
            " [ 52]\n",
            " [153]\n",
            " [ 35]\n",
            " [ 26]\n",
            " [ 23]\n",
            " [141]\n",
            " [ 57]\n",
            " [ 36]\n",
            " [  9]\n",
            " [ 56]\n",
            " [122]\n",
            " [ 75]\n",
            " [126]\n",
            " [ 72]\n",
            " [117]\n",
            " [157]\n",
            " [ 97]\n",
            " [ 83]\n",
            " [ 95]\n",
            " [ 22]\n",
            " [ 57]\n",
            " [143]\n",
            " [124]\n",
            " [ 60]\n",
            " [150]\n",
            " [ 78]\n",
            " [110]\n",
            " [ 89]\n",
            " [ 39]\n",
            " [153]\n",
            " [  9]\n",
            " [ 52]\n",
            " [ 81]\n",
            " [120]\n",
            " [123]\n",
            " [ 61]\n",
            " [109]\n",
            " [ 82]\n",
            " [ 76]\n",
            " [103]\n",
            " [ 66]\n",
            " [117]\n",
            " [ 35]\n",
            " [100]\n",
            " [  2]\n",
            " [119]\n",
            " [ 11]\n",
            " [158]\n",
            " [144]\n",
            " [ 93]\n",
            " [ 15]\n",
            " [ 63]\n",
            " [132]\n",
            " [ 16]\n",
            " [ 56]\n",
            " [ 20]\n",
            " [ 54]\n",
            " [ 55]\n",
            " [148]\n",
            " [  0]\n",
            " [ 28]\n",
            " [154]\n",
            " [ 30]\n",
            " [ 76]\n",
            " [106]\n",
            " [105]\n",
            " [ 77]\n",
            " [138]\n",
            " [ 31]\n",
            " [111]\n",
            " [ 84]\n",
            " [129]\n",
            " [ 67]\n",
            " [126]\n",
            " [109]\n",
            " [136]\n",
            " [103]\n",
            " [101]\n",
            " [ 29]\n",
            " [ 63]\n",
            " [ 29]\n",
            " [ 50]\n",
            " [ 98]\n",
            " [158]\n",
            " [111]\n",
            " [135]\n",
            " [ 86]\n",
            " [ 17]\n",
            " [140]\n",
            " [105]\n",
            " [151]\n",
            " [ 76]\n",
            " [130]\n",
            " [157]\n",
            " [ 93]\n",
            " [147]\n",
            " [ 99]\n",
            " [ 84]\n",
            " [ 96]\n",
            " [ 18]\n",
            " [105]\n",
            " [ 37]\n",
            " [ 59]\n",
            " [ 13]\n",
            " [ 36]\n",
            " [ 20]\n",
            " [103]\n",
            " [ 64]\n",
            " [155]\n",
            " [ 74]\n",
            " [ 31]\n",
            " [  4]\n",
            " [ 89]\n",
            " [ 25]\n",
            " [ 66]\n",
            " [145]\n",
            " [ 87]\n",
            " [ 18]\n",
            " [126]\n",
            " [  0]\n",
            " [ 78]\n",
            " [ 86]\n",
            " [156]\n",
            " [145]\n",
            " [147]\n",
            " [134]\n",
            " [113]\n",
            " [ 67]\n",
            " [156]\n",
            " [  2]\n",
            " [ 13]\n",
            " [ 11]\n",
            " [ 17]\n",
            " [ 73]\n",
            " [116]\n",
            " [141]\n",
            " [ 15]\n",
            " [ 14]\n",
            " [ 95]\n",
            " [ 35]\n",
            " [151]\n",
            " [  2]\n",
            " [ 56]\n",
            " [ 98]]\n",
            "[1 1 0 0 3 1 2 0 0 4 1 0 0 1 3 2 1 4 1 1 2 2 1 0 0 0 0 1 0 3 0 2 0 1 2 0 0\n",
            " 0 3 0 2 2 0 2 1 2 0 3 2 1 0 3 0 3 0 0 0 2 0 0 0 0 1 3 4 1 0 4 3 1 4 0 0 3\n",
            " 1 2 1 1 0 2 1 1 1 1 2 1 2 0 0 2 1 0 0 1 3 0 2 1 2 2 0 2 0 1 1 3 0 1 0 0 0\n",
            " 1 1 0 3 0 0 1 1 2 0 1 1 2 0 2 0 2 0 1 1 0 0 0 1 1 0 0 1 1 2 2 2 4 2 0 0 0\n",
            " 1 1 1 0 1 0 2 0 0 0 0 1 4 1 1 1 0 1 0 2 1 2 0 1 1 0 0 0 0 0 1 1 0 2 1 2 1\n",
            " 2 0 1 0 0 1 1 1 1 1 0 0 0 1 0 6 0 2 1 0 0 0 2 0 0 0 0 2 0 1 0 2 1 0 0 1 0\n",
            " 1 1 2 2 0 1 4 2 2 0 0 0 0 0 0 0 5 1 0 0 0 6 3 1 1 2 1 0 2 2 1 0 0 4 0 1 1\n",
            " 2 0 3 0 0 1 4 2 1 1 1 1 0 0 0 1 1 0 1 0 0 0 1 0 5 1 1 1 3 0 0 5 0 2 1 2 0\n",
            " 0 1 1 3 0 1 2 1 2 1 3 0 2 0 3 0 0 1 1 2 3 0 0 1 1 1 1 0 0 0 0 4 1 0 3 2 0\n",
            " 1 0 0 0 0 0 0 2 1 1 1 1 0 3 1 1 0 0 1 1 0 0 1 0 3 0 0 1 0 1 0 2 0 1 1 0 0\n",
            " 1 1 2 0 2 2 0 0 0 1 0 0 0 2 0 0 0 1 1 3 1 1 4 0 0 1 0 0 1 0 0 1 1 0 0 0 2\n",
            " 0 9 3 2 0 0 0 1 0 0 0 0 0 0 0 0 1 2 1 1 2 0 2 0 2 2 2 1 1 3 1 2 0 1 1 1 1\n",
            " 0 3 1 2 1 2 0 2 1 1 0 0 1 0 1 2 2 0 1 2 0 0 0 0 0 1 0 2 0 1 1 2 0 2 4 0 0\n",
            " 2 1 2 0 3 0 2 0 6 2 0 1 3 4 2 0 2 2 3 1 2 0 1 1 4 2 0 0 3 1 2 0 0 1 2 1 2\n",
            " 0 0 0 0 5 0 0 0 0 2 1 1 1 1 2 5 1 1 4 0 0 2 1 1 3 1 1 0 2 1 1 0 2 1 1 1 1\n",
            " 1 1 0 2 1 0 1 0 1 3 1 1 1 0 1 2 0 2 2 1 1 0 2 1 0 3 0 4 4 2 2 0 0 0 1 1 0\n",
            " 1 0 1 0 1 0 2 1 1 3 4 2 0 1 1 0 0 2 2 2 2 2 1 1 1 0 0 1 0 3 2 0 0 0 0 1 0\n",
            " 2 3 1 2 0 1 0 1 1 1 1 0 1 0 2 1 0 1 0 0 3 1 3 0 1 1 1 0 2 1 2 1 1 2 0 1 0\n",
            " 0 1 1 1 2 2 0 1 0 0 0 2 0 1 1 1 3 0 3 0 1 2 1 1 0 1 0 1 0 0 1 1 2 1 0 2 2\n",
            " 1 1 0 1 0 3 1 0 1 2 1 1 0 1 1 1 2 1 2 0 1 0 0 1 1 1 0 3 0 0 1 1 0 0 0 1 0\n",
            " 3 0 1 1 1 0 0 2 0 1 1 0 0 1 0 0 1 0 2 1 0 2 0 7 0 1 2 2 1 0 1 0 1 0 3 0 1\n",
            " 4 0 0 2 0 3 2 0 2 0 0 0 0 1 2 0 2 2 1 1 0 0 1 0 2 2 1 2 0 1 3 1 1 1 0 7 0\n",
            " 0 1 0 2 0 0 1 1 0 0 0 0 1 1 0 1 0 0 1 1 0 1 1 1 0 0 0 1 1 0 0 0 0 1 0 0 1\n",
            " 0 1 0 1 2 2 0 2 1 0 1 0 0 2 1 0 0 0 2 2]\n"
          ],
          "name": "stdout"
        }
      ]
    },
    {
      "cell_type": "code",
      "metadata": {
        "colab": {
          "base_uri": "https://localhost:8080/"
        },
        "id": "HtVtPNOBViud",
        "outputId": "7df9f4cf-2b93-4854-d9a8-f975ad84abca"
      },
      "source": [
        "print(X)"
      ],
      "execution_count": 182,
      "outputs": [
        {
          "output_type": "stream",
          "text": [
            "[]\n"
          ],
          "name": "stdout"
        }
      ]
    },
    {
      "cell_type": "code",
      "metadata": {
        "id": "syVCX1A4Rmha",
        "colab": {
          "base_uri": "https://localhost:8080/",
          "height": 295
        },
        "outputId": "7d53b476-2c3b-42a9-9297-17f0f4b4c442"
      },
      "source": [
        "#Since our dataset is pretty clean, let's start by visualizing our dataset by plotting a scatter plot\n",
        "\n",
        "plt.scatter(X, y, color='blue') \n",
        "plt.title('home score vs away_score')\n",
        "plt.xlabel('away_score')\n",
        "plt.ylabel('home_score')\n",
        "plt.show()\n"
      ],
      "execution_count": 203,
      "outputs": [
        {
          "output_type": "display_data",
          "data": {
            "image/png": "[encoded data removed]",
            "text/plain": [
              "<Figure size 432x288 with 1 Axes>"
            ]
          },
          "metadata": {
            "tags": [],
            "needs_background": "light"
          }
        }
      ]
    },
    {
      "cell_type": "code",
      "metadata": {
        "colab": {
          "base_uri": "https://localhost:8080/",
          "height": 590
        },
        "id": "NF2-jwrKQLKn",
        "outputId": "a1c2730d-11c1-41a3-e9b3-c6e6fc8709a9"
      },
      "source": [
        "# Split the dataset into train and test sets\n",
        "X_train, Y_train, X_test, Y_test = train_test_split(X,y, test_size = 0.3, random_state=42)\n",
        "\n",
        "\n",
        "# Fit Linear Regression model to the dataset(this is optional. We are doing this for the sole purpose of comparing the linear regression model to the polynomial regression model)\n",
        "reg_line = LinearRegression()\n",
        "reg_line.fit(X,y)\n",
        "\n",
        "# Visualize the Linear Regression results\n",
        "plt.scatter(X, y, color='blue') # You can put any color you like. This just helps us highlight the data points\n",
        "plt.plot(X, reg_line.predict(X), color='red')\n",
        "plt.title('home_score prediction(Linear Regression)')\n",
        "plt.xlabel('away_score')\n",
        "plt.ylabel('home_score')\n",
        "plt.show()\n",
        "\n",
        "\n",
        "# Fit polynomial Regression to the dataset\n",
        "poly_reg = PolynomialFeatures(degree = 2) \n",
        "X_poly = poly_reg.fit_transform(X)\n",
        "\n",
        "\n",
        "pol_reg = LinearRegression()\n",
        "pol_reg.fit(X_poly, y)\n",
        "\n",
        "#Visualize the Polynomial Regression results\n",
        "plt.scatter(X, y, color='blue') # You can put any color you like. This just helps us highlight the data points\n",
        "plt.plot(X, pol_reg.predict(X_poly), color='red')\n",
        "plt.title('home_score Prediction (Polynomial Regression)')\n",
        "plt.xlabel('away_score')\n",
        "plt.ylabel('home_score')\n",
        "plt.show()\n",
        "\n",
        "pol_reg.predict(poly_reg.fit_transform([[170]]))\n",
        "\n"
      ],
      "execution_count": 217,
      "outputs": [
        {
          "output_type": "display_data",
          "data": {
            "image/png": "[encoded data removed]",
            "text/plain": [
              "<Figure size 432x288 with 1 Axes>"
            ]
          },
          "metadata": {
            "tags": [],
            "needs_background": "light"
          }
        },
        {
          "output_type": "display_data",
          "data": {
            "image/png": "[encoded data removed]",
            "text/plain": [
              "<Figure size 432x288 with 1 Axes>"
            ]
          },
          "metadata": {
            "tags": [],
            "needs_background": "light"
          }
        },
        {
          "output_type": "execute_result",
          "data": {
            "text/plain": [
              "array([1.1092882])"
            ]
          },
          "metadata": {
            "tags": []
          },
          "execution_count": 217
        }
      ]
    },
    {
      "cell_type": "code",
      "metadata": {
        "colab": {
          "base_uri": "https://localhost:8080/",
          "height": 142
        },
        "id": "ddDh9vURZVgg",
        "outputId": "3833f6bd-d190-4c75-a41b-1a0e947f00b7"
      },
      "source": [
        "final.head(3)"
      ],
      "execution_count": 206,
      "outputs": [
        {
          "output_type": "execute_result",
          "data": {
            "text/html": [
              "<div>\n",
              "<style scoped>\n",
              "    .dataframe tbody tr th:only-of-type {\n",
              "        vertical-align: middle;\n",
              "    }\n",
              "\n",
              "    .dataframe tbody tr th {\n",
              "        vertical-align: top;\n",
              "    }\n",
              "\n",
              "    .dataframe thead th {\n",
              "        text-align: right;\n",
              "    }\n",
              "</style>\n",
              "<table border=\"1\" class=\"dataframe\">\n",
              "  <thead>\n",
              "    <tr style=\"text-align: right;\">\n",
              "      <th></th>\n",
              "      <th>home_team</th>\n",
              "      <th>away_team</th>\n",
              "      <th>home_score</th>\n",
              "      <th>away_score</th>\n",
              "      <th>previous_points_x</th>\n",
              "    </tr>\n",
              "  </thead>\n",
              "  <tbody>\n",
              "    <tr>\n",
              "      <th>0</th>\n",
              "      <td>20</td>\n",
              "      <td>150</td>\n",
              "      <td>3</td>\n",
              "      <td>1</td>\n",
              "      <td>13</td>\n",
              "    </tr>\n",
              "    <tr>\n",
              "      <th>1</th>\n",
              "      <td>23</td>\n",
              "      <td>90</td>\n",
              "      <td>1</td>\n",
              "      <td>1</td>\n",
              "      <td>55</td>\n",
              "    </tr>\n",
              "    <tr>\n",
              "      <th>2</th>\n",
              "      <td>40</td>\n",
              "      <td>153</td>\n",
              "      <td>5</td>\n",
              "      <td>0</td>\n",
              "      <td>23</td>\n",
              "    </tr>\n",
              "  </tbody>\n",
              "</table>\n",
              "</div>"
            ],
            "text/plain": [
              "   home_team  away_team  home_score  away_score  previous_points_x\n",
              "0         20        150           3           1                 13\n",
              "1         23         90           1           1                 55\n",
              "2         40        153           5           0                 23"
            ]
          },
          "metadata": {
            "tags": []
          },
          "execution_count": 206
        }
      ]
    },
    {
      "cell_type": "code",
      "metadata": {
        "colab": {
          "base_uri": "https://localhost:8080/",
          "height": 295
        },
        "id": "PaMOcfEeZMj4",
        "outputId": "12631d78-21c5-4471-827e-0a29aafb4f8b"
      },
      "source": [
        "# To improve on the model, all we need to do is to increase degree of the polynomial\n",
        "# Let's increase the degree to 3\n",
        "\n",
        "# Fit polynomial Regression to the dataset\n",
        "poly_reg = PolynomialFeatures(degree = 3) \n",
        "X_poly = poly_reg.fit_transform(X)\n",
        "\n",
        "\n",
        "pol_reg = LinearRegression()\n",
        "pol_reg.fit(X_poly, y)\n",
        "\n",
        "#Visualize the Polynomial Regression results\n",
        "plt.scatter(X, y, color='blue') # You can put any color you like. This just helps us highlight the data points\n",
        "plt.plot(X, pol_reg.predict(X_poly), color='red')\n",
        "plt.title('away score Prediction (Polynomial Regression)')\n",
        "plt.xlabel('away team')\n",
        "plt.ylabel('away score')\n",
        "plt.show()"
      ],
      "execution_count": 218,
      "outputs": [
        {
          "output_type": "display_data",
          "data": {
            "image/png": "[encoded data removed]",
            "text/plain": [
              "<Figure size 432x288 with 1 Axes>"
            ]
          },
          "metadata": {
            "tags": [],
            "needs_background": "light"
          }
        }
      ]
    },
    {
      "cell_type": "code",
      "metadata": {
        "colab": {
          "base_uri": "https://localhost:8080/"
        },
        "id": "oHYZBBnPYA45",
        "outputId": "0d3d1998-0551-413c-859a-7c3d3302b0a0"
      },
      "source": [
        "# Predict using linear regression\n",
        "lin_pred = reg_line.predict([[6.5]])\n",
        "print('Linear prediction: %d' %lin_pred)\n",
        "\n",
        "# Predict using Polynomial Regression\n",
        "poly_pred = pol_reg.predict(poly_reg.fit_transform([[170]]))\n",
        "print('Polynomial prediction: %d' %poly_pred)\n",
        "\n",
        "# We can also get the predictions as an array\n",
        "poly_arr_pred = pol_reg.predict(poly_reg.fit_transform(X))"
      ],
      "execution_count": 219,
      "outputs": [
        {
          "output_type": "stream",
          "text": [
            "Linear prediction: 0\n",
            "Polynomial prediction: 1\n"
          ],
          "name": "stdout"
        }
      ]
    },
    {
      "cell_type": "markdown",
      "metadata": {
        "id": "pSG9nYLSbLfP"
      },
      "source": [
        "#9.0 logistic regression"
      ]
    },
    {
      "cell_type": "markdown",
      "metadata": {
        "id": "oXdZZ1wkb8YY"
      },
      "source": [
        "###home score prediction"
      ]
    },
    {
      "cell_type": "code",
      "metadata": {
        "id": "HYLVqmd_NF1p"
      },
      "source": [
        "# Splitting our dataset\n",
        "#\n",
        "X = final.drop(\"home_score\",axis=1)\n",
        "y = final[\"home_score\"]\n",
        "\n",
        "from sklearn.model_selection import train_test_split\n",
        "X_train, X_test, y_train, y_test = train_test_split(X, y, test_size =0.3, random_state=42)"
      ],
      "execution_count": 234,
      "outputs": []
    },
    {
      "cell_type": "code",
      "metadata": {
        "id": "nGt_kEpDNFuR",
        "colab": {
          "base_uri": "https://localhost:8080/"
        },
        "outputId": "4e4ae434-4f53-4d69-a156-d36958f1d89c"
      },
      "source": [
        "# Fitting our model\n",
        "# \n",
        "from sklearn.linear_model import LogisticRegression\n",
        "\n",
        "LogReg = LogisticRegression()\n",
        "LogReg.fit(X_train, y_train)"
      ],
      "execution_count": 221,
      "outputs": [
        {
          "output_type": "stream",
          "text": [
            "/usr/local/lib/python3.7/dist-packages/sklearn/linear_model/_logistic.py:940: ConvergenceWarning: lbfgs failed to converge (status=1):\n",
            "STOP: TOTAL NO. of ITERATIONS REACHED LIMIT.\n",
            "\n",
            "Increase the number of iterations (max_iter) or scale the data as shown in:\n",
            "    https://scikit-learn.org/stable/modules/preprocessing.html\n",
            "Please also refer to the documentation for alternative solver options:\n",
            "    https://scikit-learn.org/stable/modules/linear_model.html#logistic-regression\n",
            "  extra_warning_msg=_LOGISTIC_SOLVER_CONVERGENCE_MSG)\n"
          ],
          "name": "stderr"
        },
        {
          "output_type": "execute_result",
          "data": {
            "text/plain": [
              "LogisticRegression(C=1.0, class_weight=None, dual=False, fit_intercept=True,\n",
              "                   intercept_scaling=1, l1_ratio=None, max_iter=100,\n",
              "                   multi_class='auto', n_jobs=None, penalty='l2',\n",
              "                   random_state=None, solver='lbfgs', tol=0.0001, verbose=0,\n",
              "                   warm_start=False)"
            ]
          },
          "metadata": {
            "tags": []
          },
          "execution_count": 221
        }
      ]
    },
    {
      "cell_type": "code",
      "metadata": {
        "id": "59GZYn7hVV0G"
      },
      "source": [
        "# Using our model to make a prediction\n",
        "#\n",
        "y_pred = LogReg.predict(X_test)"
      ],
      "execution_count": 222,
      "outputs": []
    },
    {
      "cell_type": "code",
      "metadata": {
        "id": "jeGruk2ZVW-H",
        "colab": {
          "base_uri": "https://localhost:8080/"
        },
        "outputId": "30b36e83-1a5c-4e99-e622-80a59708abf3"
      },
      "source": [
        "# Evaluating the model\n",
        "#\n",
        "from sklearn.metrics import confusion_matrix\n",
        "confusion_matrix = confusion_matrix(y_test, y_pred)\n",
        "confusion_matrix"
      ],
      "execution_count": 223,
      "outputs": [
        {
          "output_type": "execute_result",
          "data": {
            "text/plain": [
              "array([[ 0, 74,  1,  0,  0,  0,  0,  0,  0,  0],\n",
              "       [ 0, 67,  1,  0,  0,  0,  0,  0,  0,  0],\n",
              "       [ 0, 60,  1,  0,  0,  0,  0,  0,  0,  0],\n",
              "       [ 0, 31,  0,  0,  0,  0,  0,  0,  0,  0],\n",
              "       [ 0, 13,  0,  0,  0,  0,  0,  0,  0,  0],\n",
              "       [ 0,  7,  1,  0,  0,  0,  0,  0,  0,  0],\n",
              "       [ 0,  2,  0,  0,  0,  0,  0,  0,  0,  0],\n",
              "       [ 0,  1,  0,  0,  0,  0,  0,  0,  0,  0],\n",
              "       [ 0,  2,  0,  0,  0,  0,  0,  0,  0,  0],\n",
              "       [ 0,  1,  0,  0,  0,  0,  0,  0,  0,  0]])"
            ]
          },
          "metadata": {
            "tags": []
          },
          "execution_count": 223
        }
      ]
    },
    {
      "cell_type": "markdown",
      "metadata": {
        "id": "Cc8myPktbzxc"
      },
      "source": [
        "####Away score prediction"
      ]
    },
    {
      "cell_type": "code",
      "metadata": {
        "id": "4__UaphiVafB"
      },
      "source": [
        "# Splitting our dataset\n",
        "#\n",
        "X = final.drop(\"away_score\",axis=1)\n",
        "y = final[\"away_score\"]\n",
        "\n",
        "from sklearn.model_selection import train_test_split\n",
        "X_train, X_test, y_train, y_test = train_test_split(X, y, test_size = 0.3, random_state=10)"
      ],
      "execution_count": 224,
      "outputs": []
    },
    {
      "cell_type": "code",
      "metadata": {
        "id": "uH4UEPM72p7Q",
        "colab": {
          "base_uri": "https://localhost:8080/"
        },
        "outputId": "1fbaff0a-a9bb-4b78-ee03-43cee7d1ef88"
      },
      "source": [
        "# Fitting our model\n",
        "# \n",
        "from sklearn.linear_model import LogisticRegression\n",
        "\n",
        "LogReg = LogisticRegression()\n",
        "LogReg.fit(X_train, y_train)"
      ],
      "execution_count": 225,
      "outputs": [
        {
          "output_type": "stream",
          "text": [
            "/usr/local/lib/python3.7/dist-packages/sklearn/linear_model/_logistic.py:940: ConvergenceWarning: lbfgs failed to converge (status=1):\n",
            "STOP: TOTAL NO. of ITERATIONS REACHED LIMIT.\n",
            "\n",
            "Increase the number of iterations (max_iter) or scale the data as shown in:\n",
            "    https://scikit-learn.org/stable/modules/preprocessing.html\n",
            "Please also refer to the documentation for alternative solver options:\n",
            "    https://scikit-learn.org/stable/modules/linear_model.html#logistic-regression\n",
            "  extra_warning_msg=_LOGISTIC_SOLVER_CONVERGENCE_MSG)\n"
          ],
          "name": "stderr"
        },
        {
          "output_type": "execute_result",
          "data": {
            "text/plain": [
              "LogisticRegression(C=1.0, class_weight=None, dual=False, fit_intercept=True,\n",
              "                   intercept_scaling=1, l1_ratio=None, max_iter=100,\n",
              "                   multi_class='auto', n_jobs=None, penalty='l2',\n",
              "                   random_state=None, solver='lbfgs', tol=0.0001, verbose=0,\n",
              "                   warm_start=False)"
            ]
          },
          "metadata": {
            "tags": []
          },
          "execution_count": 225
        }
      ]
    },
    {
      "cell_type": "code",
      "metadata": {
        "id": "2NG_4CYd2p4W"
      },
      "source": [
        "# Using our model to make a prediction\n",
        "#\n",
        "y_pred = LogReg.predict(X_test)"
      ],
      "execution_count": 226,
      "outputs": []
    },
    {
      "cell_type": "code",
      "metadata": {
        "id": "Rf758NpR2zeM",
        "colab": {
          "base_uri": "https://localhost:8080/"
        },
        "outputId": "544484bf-4f38-43b6-9f21-59356daffc02"
      },
      "source": [
        "# Evaluating the model\n",
        "#\n",
        "from sklearn.metrics import confusion_matrix\n",
        "confusion_matrix = confusion_matrix(y_test, y_pred)\n",
        "confusion_matrix"
      ],
      "execution_count": 227,
      "outputs": [
        {
          "output_type": "execute_result",
          "data": {
            "text/plain": [
              "array([[78, 33,  0,  0,  0,  0,  0,  0],\n",
              "       [60, 26,  0,  0,  0,  0,  0,  0],\n",
              "       [28, 15,  0,  0,  0,  0,  0,  1],\n",
              "       [ 7,  6,  0,  0,  0,  0,  0,  1],\n",
              "       [ 2,  3,  0,  0,  0,  0,  0,  0],\n",
              "       [ 0,  1,  0,  0,  0,  0,  0,  0],\n",
              "       [ 0,  1,  0,  0,  0,  0,  0,  0],\n",
              "       [ 0,  0,  0,  0,  0,  0,  0,  0]])"
            ]
          },
          "metadata": {
            "tags": []
          },
          "execution_count": 227
        }
      ]
    },
    {
      "cell_type": "markdown",
      "metadata": {
        "id": "cOhGFaiDmCeh"
      },
      "source": [
        "#10.0 Residual plots and heteroskedasticity testing\n",
        "\n",
        "Let's start by creating a model based on our revised set of independent variables above, then displaying the residual plot for it."
      ]
    },
    {
      "cell_type": "code",
      "metadata": {
        "id": "0Rz2i0dX80EA",
        "colab": {
          "base_uri": "https://localhost:8080/"
        },
        "outputId": "00c9406f-7dd1-4eb1-9786-7d4da25611a5"
      },
      "source": [
        "from sklearn import metrics\n",
        "from sklearn.model_selection import train_test_split\n",
        "from sklearn.linear_model import LinearRegression\n",
        "\n",
        "X = correlations.values\n",
        "y = correlations['home_score'].values\n",
        "\n",
        "X_train, X_test, admit_train, admit_test = train_test_split(X, y, test_size=0.3, random_state=42)\n",
        "\n",
        "regressor = LinearRegression()\n",
        "regressor.fit(X_train, admit_train)\n",
        "\n",
        "# This is our prediction for admission based on our model\n",
        "admit_predict = regressor.predict(X_test)\n",
        "\n",
        "# We now create the residual by substracting the test value from the predicted \n",
        "# value for each row in our dataset\n",
        "\n",
        "residuals = np.subtract(admit_predict, admit_test)\n",
        "\n",
        "# Let's describe our residual:\n",
        "pd.DataFrame(residuals).describe()\n",
        "\n",
        "residuals.mean()"
      ],
      "execution_count": 239,
      "outputs": [
        {
          "output_type": "execute_result",
          "data": {
            "text/plain": [
              "0.30406333027159216"
            ]
          },
          "metadata": {
            "tags": []
          },
          "execution_count": 239
        }
      ]
    },
    {
      "cell_type": "markdown",
      "metadata": {
        "id": "W2HzkrvSPErH"
      },
      "source": [
        "Our mean  is close to 1, indicating that we tend to be fairly correct, although slightly over estimating chances "
      ]
    },
    {
      "cell_type": "code",
      "metadata": {
        "id": "fngUaSK3AL3O",
        "colab": {
          "base_uri": "https://localhost:8080/",
          "height": 279
        },
        "outputId": "d3f7f623-0a58-4fc3-8035-474475990f66"
      },
      "source": [
        "import matplotlib.pyplot as plt\n",
        "\n",
        "plt.scatter(admit_predict, residuals, color='black')\n",
        "plt.ylabel('residual')\n",
        "plt.xlabel('fitted values')\n",
        "plt.axhline(y= residuals.mean(), color='red', linewidth=1)\n",
        "plt.show()"
      ],
      "execution_count": 240,
      "outputs": [
        {
          "output_type": "display_data",
          "data": {
            "image/png": "[encoded data removed]",
            "text/plain": [
              "<Figure size 432x288 with 1 Axes>"
            ]
          },
          "metadata": {
            "tags": [],
            "needs_background": "light"
          }
        }
      ]
    },
    {
      "cell_type": "markdown",
      "metadata": {
        "id": "TTRX_4xHDs3s"
      },
      "source": [
        "From the our visualisation we can see that the residals are far from the mean and some are away from zero  hence there are no possible patterns"
      ]
    },
    {
      "cell_type": "code",
      "metadata": {
        "id": "wonnd1GxA6SE",
        "colab": {
          "base_uri": "https://localhost:8080/"
        },
        "outputId": "67ce1af9-2f04-4fb6-fcad-ad40cf8db635"
      },
      "source": [
        "import scipy as sp\n",
        "\n",
        "test_result, p_value = sp.stats.bartlett(admit_predict, residuals)\n",
        "\n",
        "# To interpret the results we must also compute a critical value of the chi squared distribution\n",
        "degree_of_freedom = len(admit_predict)-1\n",
        "probability = 1 - p_value\n",
        "\n",
        "critical_value = sp.stats.chi2.ppf(probability, degree_of_freedom)\n",
        "print(critical_value)\n",
        "\n",
        "# If the test_result is greater than the critical value, then we reject our null\n",
        "# hypothesis. This would mean that there are patterns to the variance of the data\n",
        "\n",
        "# Otherwise, we can identify no patterns, and we accept the null hypothesis that \n",
        "# the variance is homogeneous across our data\n",
        "if (test_result > critical_value):\n",
        "  print('the variances are unequal, and the model should be reassessed')\n",
        "else:\n",
        "  print('the variances are homogeneous')\n",
        "\n",
        "\n"
      ],
      "execution_count": 233,
      "outputs": [
        {
          "output_type": "stream",
          "text": [
            "4.38878615413851\n",
            "the variances are unequal, and the model should be reassessed\n"
          ],
          "name": "stdout"
        }
      ]
    }
  ]
}